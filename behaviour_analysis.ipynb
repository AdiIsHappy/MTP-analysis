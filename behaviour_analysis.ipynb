{
 "cells": [
  {
   "cell_type": "code",
   "execution_count": 176,
   "metadata": {},
   "outputs": [],
   "source": [
    "import pandas as pd\n",
    "import os\n",
    "import glob"
   ]
  },
  {
   "cell_type": "code",
   "execution_count": null,
   "metadata": {},
   "outputs": [],
   "source": [
    "#Quick Rename Files\n",
    "# glob.glob('./Unity Data/*/*.csv')\n",
    "# for file_path in glob.glob('./Unity Data/*/*.csv'):\n",
    "#     file_name = os.path.basename(file_path)\n",
    "#     new_file_name = file_name.split('_')[-1].split('.')[0].upper() + '_' + file_name.split('_')[0].upper() + '.csv'\n",
    "#     os.rename(file_path, os.path.join(os.path.dirname(file_path), new_file_name))"
   ]
  },
  {
   "cell_type": "markdown",
   "metadata": {},
   "source": [
    "# Preperation"
   ]
  },
  {
   "cell_type": "markdown",
   "metadata": {},
   "source": [
    "* Removing Entry and exit from table entry if time difference between them is less than 1/2 second.\n",
    "* Removing all the entries for books which are placed withing first second."
   ]
  },
  {
   "cell_type": "code",
   "execution_count": 299,
   "metadata": {},
   "outputs": [],
   "source": [
    "groups = os.listdir(\"Unity Data\")\n",
    "data_file_paths = {group : glob.glob(f\"Unity Data/{group}/*\") for group in groups }"
   ]
  },
  {
   "cell_type": "code",
   "execution_count": 184,
   "metadata": {},
   "outputs": [],
   "source": [
    "def load_and_clean_data(file_path):\n",
    "    \"\"\"Loads and cleans the data from the given file path.\"\"\"\n",
    "    df = pd.read_csv(file_path)\n",
    "    df.drop(columns=[\"Score\", \"Penalty\", \"ID\", \"RollNumber\", \"Group\"], inplace=True)\n",
    "    df.drop(index=0, inplace=True)\n",
    "    return df\n",
    "\n",
    "def filter_simulation_data(df):\n",
    "    \"\"\"Filters out the simulation data from the DataFrame.\"\"\"\n",
    "    mask_start = df[df[\"EventType\"] == \"SimulationStarted\"]\n",
    "    mask_end = df[df[\"EventType\"] == \"SimulationEnded\"]\n",
    "    if mask_end.empty:\n",
    "        mask_end = df.iloc[-1, :]\n",
    "    return df.loc[mask_start.index[-1]:mask_end.index[0]]\n",
    "\n",
    "def remove_fake_sitting_indications(df):\n",
    "    \"\"\"Removes fake sitting indications from the DataFrame.\"\"\"\n",
    "    entry_under_table = df[df[\"EventType\"] == \"EntryUnderTable\"]\n",
    "    exit_under_table = df[df[\"EventType\"] == \"ExitUnderTable\"]\n",
    "    table_interaction = pd.concat([entry_under_table, exit_under_table])\n",
    "    table_interaction.sort_values(by=\"Time\", inplace=True)\n",
    "    minimum_time_with_table = 500  # milliseconds\n",
    "    for i in range(0, len(table_interaction), 2):\n",
    "        if table_interaction.iloc[i + 1][\"Time\"] - table_interaction.iloc[i][\"Time\"] < minimum_time_with_table:\n",
    "            df.drop(index=[table_interaction.index[i], table_interaction.index[i + 1]], inplace=True)\n",
    "    return df\n",
    "\n",
    "def remove_initial_books_placement(df):\n",
    "    \"\"\"Removes initial books placement from the DataFrame.\"\"\"\n",
    "    filter_time = df[df[\"EventType\"] == \"SimulationStarted\"][\"Time\"].values[0] + 1000  # milliseconds\n",
    "    entry_books = df[df[\"EventType\"] == \"BookPlaced\"]\n",
    "    rows_to_remove = entry_books[entry_books[\"Time\"] < filter_time]\n",
    "    df.drop(index=rows_to_remove.index, inplace=True)\n",
    "    return df\n",
    "\n",
    "def get_cleaned_data(file_path, groups):\n",
    "    \"\"\"Main function to perform data pre-cleaning.\"\"\"\n",
    "    df = load_and_clean_data(file_path)\n",
    "    df = filter_simulation_data(df)\n",
    "    df = remove_fake_sitting_indications(df)\n",
    "    df = remove_initial_books_placement(df)\n",
    "    return df\n"
   ]
  },
  {
   "cell_type": "markdown",
   "metadata": {},
   "source": [
    "# Task Specific Analysis\n"
   ]
  },
  {
   "cell_type": "markdown",
   "metadata": {},
   "source": [
    "### Book placement (Group 1, 2)"
   ]
  },
  {
   "cell_type": "code",
   "execution_count": 232,
   "metadata": {},
   "outputs": [],
   "source": [
    "def get_books_placed_stats(df, id, group):\n",
    "    earthquake_start_index = df[df[\"EventType\"] == \"EarthquakeStart\"].index[0]\n",
    "    earthquake_end_index = df[df[\"EventType\"] == \"EarthquakeEnd\"].index[-1]\n",
    "    before_earthquake_data = df.loc[:earthquake_start_index]\n",
    "    after_earthquake_data = df.loc[earthquake_end_index:]\n",
    "    during_earthquake_data = df.loc[earthquake_start_index:earthquake_end_index]\n",
    "\n",
    "    # Calcaulate number of books placed before, during and after earthquake\n",
    "    books_before_earthquake = before_earthquake_data[before_earthquake_data[\"EventType\"] == \"BookPlaced\"].shape[0]\n",
    "    books_during_earthquake = during_earthquake_data[during_earthquake_data[\"EventType\"] == \"BookPlaced\"].shape[0]\n",
    "    books_after_earthquake = after_earthquake_data[after_earthquake_data[\"EventType\"] == \"BookPlaced\"].shape[0]\n",
    "\n",
    "    return [id, group, books_before_earthquake, books_during_earthquake, books_after_earthquake]\n",
    "\n",
    "def get_books_placed_stats_for_group(group, data_file_paths):\n",
    "    \"\"\"Returns the number of books placed before, during and after earthquake for the given group.\"\"\"\n",
    "    books_placed_stats = []\n",
    "    for file_path in data_file_paths[group]:\n",
    "        df = get_cleaned_data(file_path, groups)\n",
    "        books_placed_stats.append(get_books_placed_stats(df, os.path.basename(file_path).split(\".\")[0], group))\n",
    "    books_placed_stats = pd.DataFrame(books_placed_stats, columns=[\"ID\", \"Group\", \"BooksPlacedBeforeEarthquake\", \"BooksPlacedDuringEarthquake\", \"BooksPlacedAfterEarthquake\"])\n",
    "    return books_placed_stats\n",
    "\n",
    "def get_average_book_placed_stats_for_all_groups(data_file_paths):\n",
    "    \"\"\"Returns the average number of books placed before, during and after earthquake for all groups.\"\"\"\n",
    "    books_placed_stats = []\n",
    "    for group in data_file_paths:\n",
    "        books_placed_stats.append(get_books_placed_stats_for_group(group, data_file_paths))\n",
    "    books_placed_stats = pd.concat(books_placed_stats)\n",
    "    return books_placed_stats\n",
    "tt = get_average_book_placed_stats_for_all_groups(data_file_paths)"
   ]
  },
  {
   "cell_type": "code",
   "execution_count": 233,
   "metadata": {},
   "outputs": [
    {
     "data": {
      "application/vnd.microsoft.datawrangler.viewer.v0+json": {
       "columns": [
        {
         "name": "Group",
         "rawType": "object",
         "type": "string"
        },
        {
         "name": "BooksPlacedBeforeEarthquake",
         "rawType": "float64",
         "type": "float"
        },
        {
         "name": "BooksPlacedDuringEarthquake",
         "rawType": "float64",
         "type": "float"
        },
        {
         "name": "BooksPlacedAfterEarthquake",
         "rawType": "float64",
         "type": "float"
        }
       ],
       "conversionMethod": "pd.DataFrame",
       "ref": "8b6fc7af-cfe3-4fc6-8662-7df67645ee57",
       "rows": [
        [
         "Group 1",
         "2.65",
         "1.4",
         "4.65"
        ],
        [
         "Group 2",
         "3.35",
         "2.5",
         "3.8"
        ],
        [
         "Group 3",
         "0.5",
         "0.0",
         "0.4375"
        ],
        [
         "Group 4",
         "0.5",
         "0.0",
         "0.14285714285714285"
        ]
       ],
       "shape": {
        "columns": 3,
        "rows": 4
       }
      },
      "text/html": [
       "<div>\n",
       "<style scoped>\n",
       "    .dataframe tbody tr th:only-of-type {\n",
       "        vertical-align: middle;\n",
       "    }\n",
       "\n",
       "    .dataframe tbody tr th {\n",
       "        vertical-align: top;\n",
       "    }\n",
       "\n",
       "    .dataframe thead th {\n",
       "        text-align: right;\n",
       "    }\n",
       "</style>\n",
       "<table border=\"1\" class=\"dataframe\">\n",
       "  <thead>\n",
       "    <tr style=\"text-align: right;\">\n",
       "      <th></th>\n",
       "      <th>BooksPlacedBeforeEarthquake</th>\n",
       "      <th>BooksPlacedDuringEarthquake</th>\n",
       "      <th>BooksPlacedAfterEarthquake</th>\n",
       "    </tr>\n",
       "    <tr>\n",
       "      <th>Group</th>\n",
       "      <th></th>\n",
       "      <th></th>\n",
       "      <th></th>\n",
       "    </tr>\n",
       "  </thead>\n",
       "  <tbody>\n",
       "    <tr>\n",
       "      <th>Group 1</th>\n",
       "      <td>2.65</td>\n",
       "      <td>1.4</td>\n",
       "      <td>4.650000</td>\n",
       "    </tr>\n",
       "    <tr>\n",
       "      <th>Group 2</th>\n",
       "      <td>3.35</td>\n",
       "      <td>2.5</td>\n",
       "      <td>3.800000</td>\n",
       "    </tr>\n",
       "    <tr>\n",
       "      <th>Group 3</th>\n",
       "      <td>0.50</td>\n",
       "      <td>0.0</td>\n",
       "      <td>0.437500</td>\n",
       "    </tr>\n",
       "    <tr>\n",
       "      <th>Group 4</th>\n",
       "      <td>0.50</td>\n",
       "      <td>0.0</td>\n",
       "      <td>0.142857</td>\n",
       "    </tr>\n",
       "  </tbody>\n",
       "</table>\n",
       "</div>"
      ],
      "text/plain": [
       "         BooksPlacedBeforeEarthquake  BooksPlacedDuringEarthquake  \\\n",
       "Group                                                               \n",
       "Group 1                         2.65                          1.4   \n",
       "Group 2                         3.35                          2.5   \n",
       "Group 3                         0.50                          0.0   \n",
       "Group 4                         0.50                          0.0   \n",
       "\n",
       "         BooksPlacedAfterEarthquake  \n",
       "Group                                \n",
       "Group 1                    4.650000  \n",
       "Group 2                    3.800000  \n",
       "Group 3                    0.437500  \n",
       "Group 4                    0.142857  "
      ]
     },
     "execution_count": 233,
     "metadata": {},
     "output_type": "execute_result"
    }
   ],
   "source": [
    "t = tt.drop(columns='ID')\n",
    "t = t.groupby('Group').mean()\n",
    "t"
   ]
  },
  {
   "cell_type": "markdown",
   "metadata": {},
   "source": [
    "### Item Observation Task (Group 3, 4)"
   ]
  },
  {
   "cell_type": "code",
   "execution_count": 234,
   "metadata": {},
   "outputs": [],
   "source": [
    "def get_items_observed_stats(df, id, group):\n",
    "    earthquake_start_index = df[df[\"EventType\"] == \"EarthquakeStart\"].index[0]\n",
    "    earthquake_end_index = df[df[\"EventType\"] == \"EarthquakeEnd\"].index[-1]\n",
    "    before_earthquake_data = df.loc[:earthquake_start_index]\n",
    "    after_earthquake_data = df.loc[earthquake_end_index:]\n",
    "    during_earthquake_data = df.loc[earthquake_start_index:earthquake_end_index]\n",
    "\n",
    "    # Calcaulate number of books placed before, during and after earthquake\n",
    "    items_observed_before_earthquake = before_earthquake_data[before_earthquake_data[\"EventType\"] == \"ItemObserved\"].shape[0]\n",
    "    items_observed_during_earthquake = during_earthquake_data[during_earthquake_data[\"EventType\"] == \"ItemObserved\"].shape[0]\n",
    "    items_observed_after_earthquake = after_earthquake_data[after_earthquake_data[\"EventType\"] == \"ItemObserved\"].shape[0]\n",
    "\n",
    "    return [id, group, items_observed_before_earthquake, items_observed_during_earthquake, items_observed_after_earthquake]\n",
    "\n",
    "def get_items_observed_stats_for_group(group, data_file_paths):\n",
    "    \"\"\"Returns the number of books placed before, during and after earthquake for the given group.\"\"\"\n",
    "    items_observed_stats = []\n",
    "    for file_path in data_file_paths[group]:\n",
    "        df = get_cleaned_data(file_path, groups)\n",
    "        items_observed_stats.append(get_items_observed_stats(df, os.path.basename(file_path).split(\".\")[0], group))\n",
    "    items_observed_stats = pd.DataFrame(items_observed_stats, columns=[\"ID\", \"Group\", \"ItemsObservedBeforeEarthquake\", \"ItemsObservedDuringEarthquake\", \"ItemsObservedAfterEarthquake\"])\n",
    "    return items_observed_stats\n",
    "\n",
    "def get_average_items_observed_stats_for_all_groups(data_file_paths):\n",
    "    \"\"\"Returns the average number of books placed before, during and after earthquake for all groups.\"\"\"\n",
    "    items_observed_stats = []\n",
    "    for group in data_file_paths:\n",
    "        items_observed_stats.append(get_items_observed_stats_for_group(group, data_file_paths))\n",
    "    items_observed_stats = pd.concat(items_observed_stats)\n",
    "    return items_observed_stats\n",
    "tt = get_average_items_observed_stats_for_all_groups(data_file_paths)"
   ]
  },
  {
   "cell_type": "code",
   "execution_count": 235,
   "metadata": {},
   "outputs": [
    {
     "data": {
      "application/vnd.microsoft.datawrangler.viewer.v0+json": {
       "columns": [
        {
         "name": "Group",
         "rawType": "object",
         "type": "string"
        },
        {
         "name": "ItemsObservedBeforeEarthquake",
         "rawType": "float64",
         "type": "float"
        },
        {
         "name": "ItemsObservedDuringEarthquake",
         "rawType": "float64",
         "type": "float"
        },
        {
         "name": "ItemsObservedAfterEarthquake",
         "rawType": "float64",
         "type": "float"
        }
       ],
       "conversionMethod": "pd.DataFrame",
       "ref": "8f26d114-e235-4ef9-b5cd-a038caebe851",
       "rows": [
        [
         "Group 1",
         "0.0",
         "0.0",
         "0.0"
        ],
        [
         "Group 2",
         "0.0",
         "0.0",
         "0.0"
        ],
        [
         "Group 3",
         "2.75",
         "0.625",
         "4.8125"
        ],
        [
         "Group 4",
         "2.5714285714285716",
         "1.5",
         "3.7857142857142856"
        ]
       ],
       "shape": {
        "columns": 3,
        "rows": 4
       }
      },
      "text/html": [
       "<div>\n",
       "<style scoped>\n",
       "    .dataframe tbody tr th:only-of-type {\n",
       "        vertical-align: middle;\n",
       "    }\n",
       "\n",
       "    .dataframe tbody tr th {\n",
       "        vertical-align: top;\n",
       "    }\n",
       "\n",
       "    .dataframe thead th {\n",
       "        text-align: right;\n",
       "    }\n",
       "</style>\n",
       "<table border=\"1\" class=\"dataframe\">\n",
       "  <thead>\n",
       "    <tr style=\"text-align: right;\">\n",
       "      <th></th>\n",
       "      <th>ItemsObservedBeforeEarthquake</th>\n",
       "      <th>ItemsObservedDuringEarthquake</th>\n",
       "      <th>ItemsObservedAfterEarthquake</th>\n",
       "    </tr>\n",
       "    <tr>\n",
       "      <th>Group</th>\n",
       "      <th></th>\n",
       "      <th></th>\n",
       "      <th></th>\n",
       "    </tr>\n",
       "  </thead>\n",
       "  <tbody>\n",
       "    <tr>\n",
       "      <th>Group 1</th>\n",
       "      <td>0.000000</td>\n",
       "      <td>0.000</td>\n",
       "      <td>0.000000</td>\n",
       "    </tr>\n",
       "    <tr>\n",
       "      <th>Group 2</th>\n",
       "      <td>0.000000</td>\n",
       "      <td>0.000</td>\n",
       "      <td>0.000000</td>\n",
       "    </tr>\n",
       "    <tr>\n",
       "      <th>Group 3</th>\n",
       "      <td>2.750000</td>\n",
       "      <td>0.625</td>\n",
       "      <td>4.812500</td>\n",
       "    </tr>\n",
       "    <tr>\n",
       "      <th>Group 4</th>\n",
       "      <td>2.571429</td>\n",
       "      <td>1.500</td>\n",
       "      <td>3.785714</td>\n",
       "    </tr>\n",
       "  </tbody>\n",
       "</table>\n",
       "</div>"
      ],
      "text/plain": [
       "         ItemsObservedBeforeEarthquake  ItemsObservedDuringEarthquake  \\\n",
       "Group                                                                   \n",
       "Group 1                       0.000000                          0.000   \n",
       "Group 2                       0.000000                          0.000   \n",
       "Group 3                       2.750000                          0.625   \n",
       "Group 4                       2.571429                          1.500   \n",
       "\n",
       "         ItemsObservedAfterEarthquake  \n",
       "Group                                  \n",
       "Group 1                      0.000000  \n",
       "Group 2                      0.000000  \n",
       "Group 3                      4.812500  \n",
       "Group 4                      3.785714  "
      ]
     },
     "execution_count": 235,
     "metadata": {},
     "output_type": "execute_result"
    }
   ],
   "source": [
    "t = tt.drop(columns='ID')\n",
    "t = t.groupby('Group').mean()\n",
    "t"
   ]
  },
  {
   "cell_type": "markdown",
   "metadata": {},
   "source": [
    "# Participant Actions\n"
   ]
  },
  {
   "cell_type": "markdown",
   "metadata": {},
   "source": [
    "### Number of items picked"
   ]
  },
  {
   "cell_type": "code",
   "execution_count": null,
   "metadata": {},
   "outputs": [],
   "source": [
    "def get_items_picked_stats(df, id, group):\n",
    "    \"\"\"Calculates the number of items picked before, during, and after an earthquake.\"\"\"\n",
    "    earthquake_start_index = df[df[\"EventType\"] == \"EarthquakeStart\"].index[0]\n",
    "    earthquake_end_index = df[df[\"EventType\"] == \"EarthquakeEnd\"].index[-1]\n",
    "    before_earthquake_data = df.loc[:earthquake_start_index]\n",
    "    after_earthquake_data = df.loc[earthquake_end_index:]\n",
    "    during_earthquake_data = df.loc[earthquake_start_index:earthquake_end_index]\n",
    "\n",
    "    items_picked_before_earthquake = before_earthquake_data[before_earthquake_data[\"EventType\"] == \"ItemPicked\"].shape[0]\n",
    "    items_picked_during_earthquake = during_earthquake_data[during_earthquake_data[\"EventType\"] == \"ItemPicked\"].shape[0]\n",
    "    items_picked_after_earthquake = after_earthquake_data[after_earthquake_data[\"EventType\"] == \"ItemPicked\"].shape[0]\n",
    "\n",
    "    return [id, group, items_picked_before_earthquake, items_picked_during_earthquake, items_picked_after_earthquake]\n",
    "\n",
    "def get_items_picked_stats_for_group(group, data_file_paths, get_cleaned_data, groups):\n",
    "    \"\"\"Returns the number of items picked before, during and after earthquake for the given group.\"\"\"\n",
    "    items_picked_stats =[]\n",
    "    for file_path in data_file_paths[group]:\n",
    "        df = get_cleaned_data(file_path, groups)\n",
    "        items_picked_stats.append(get_items_picked_stats(df, os.path.basename(file_path).split(\".\")[0], group))\n",
    "    items_picked_stats = pd.DataFrame(items_picked_stats, columns=[\"ID\", \"Group\", \"ItemsPickedBeforeEarthquake\", \"ItemsPickedDuringEarthquake\", \"ItemsPickedAfterEarthquake\"])\n",
    "    return items_picked_stats\n",
    "\n",
    "def get_average_items_picked_stats_for_all_groups(data_file_paths, get_cleaned_data, groups):\n",
    "    \"\"\"Returns the average number of items picked before, during and after earthquake for all groups.\"\"\"\n",
    "    items_picked_stats = []\n",
    "    for group in data_file_paths:\n",
    "        items_picked_stats.append(get_items_picked_stats_for_group(group, data_file_paths, get_cleaned_data, groups))\n",
    "    items_picked_stats = pd.concat(items_picked_stats)\n",
    "    return items_picked_stats\n",
    "\n",
    "tt = get_average_items_picked_stats_for_all_groups(data_file_paths, get_cleaned_data, groups)"
   ]
  },
  {
   "cell_type": "code",
   "execution_count": 237,
   "metadata": {},
   "outputs": [
    {
     "data": {
      "application/vnd.microsoft.datawrangler.viewer.v0+json": {
       "columns": [
        {
         "name": "Group",
         "rawType": "object",
         "type": "string"
        },
        {
         "name": "ItemsPickedBeforeEarthquake",
         "rawType": "float64",
         "type": "float"
        },
        {
         "name": "ItemsPickedDuringEarthquake",
         "rawType": "float64",
         "type": "float"
        },
        {
         "name": "ItemsPickedAfterEarthquake",
         "rawType": "float64",
         "type": "float"
        }
       ],
       "conversionMethod": "pd.DataFrame",
       "ref": "9d43655f-eed3-4ba9-b203-2bc5ad07be86",
       "rows": [
        [
         "Group 1",
         "4.5",
         "2.55",
         "6.65"
        ],
        [
         "Group 2",
         "4.8",
         "4.1",
         "6.2"
        ],
        [
         "Group 3",
         "5.125",
         "1.5625",
         "10.3125"
        ],
        [
         "Group 4",
         "4.214285714285714",
         "2.642857142857143",
         "8.214285714285714"
        ]
       ],
       "shape": {
        "columns": 3,
        "rows": 4
       }
      },
      "text/html": [
       "<div>\n",
       "<style scoped>\n",
       "    .dataframe tbody tr th:only-of-type {\n",
       "        vertical-align: middle;\n",
       "    }\n",
       "\n",
       "    .dataframe tbody tr th {\n",
       "        vertical-align: top;\n",
       "    }\n",
       "\n",
       "    .dataframe thead th {\n",
       "        text-align: right;\n",
       "    }\n",
       "</style>\n",
       "<table border=\"1\" class=\"dataframe\">\n",
       "  <thead>\n",
       "    <tr style=\"text-align: right;\">\n",
       "      <th></th>\n",
       "      <th>ItemsPickedBeforeEarthquake</th>\n",
       "      <th>ItemsPickedDuringEarthquake</th>\n",
       "      <th>ItemsPickedAfterEarthquake</th>\n",
       "    </tr>\n",
       "    <tr>\n",
       "      <th>Group</th>\n",
       "      <th></th>\n",
       "      <th></th>\n",
       "      <th></th>\n",
       "    </tr>\n",
       "  </thead>\n",
       "  <tbody>\n",
       "    <tr>\n",
       "      <th>Group 1</th>\n",
       "      <td>4.500000</td>\n",
       "      <td>2.550000</td>\n",
       "      <td>6.650000</td>\n",
       "    </tr>\n",
       "    <tr>\n",
       "      <th>Group 2</th>\n",
       "      <td>4.800000</td>\n",
       "      <td>4.100000</td>\n",
       "      <td>6.200000</td>\n",
       "    </tr>\n",
       "    <tr>\n",
       "      <th>Group 3</th>\n",
       "      <td>5.125000</td>\n",
       "      <td>1.562500</td>\n",
       "      <td>10.312500</td>\n",
       "    </tr>\n",
       "    <tr>\n",
       "      <th>Group 4</th>\n",
       "      <td>4.214286</td>\n",
       "      <td>2.642857</td>\n",
       "      <td>8.214286</td>\n",
       "    </tr>\n",
       "  </tbody>\n",
       "</table>\n",
       "</div>"
      ],
      "text/plain": [
       "         ItemsPickedBeforeEarthquake  ItemsPickedDuringEarthquake  \\\n",
       "Group                                                               \n",
       "Group 1                     4.500000                     2.550000   \n",
       "Group 2                     4.800000                     4.100000   \n",
       "Group 3                     5.125000                     1.562500   \n",
       "Group 4                     4.214286                     2.642857   \n",
       "\n",
       "         ItemsPickedAfterEarthquake  \n",
       "Group                                \n",
       "Group 1                    6.650000  \n",
       "Group 2                    6.200000  \n",
       "Group 3                   10.312500  \n",
       "Group 4                    8.214286  "
      ]
     },
     "execution_count": 237,
     "metadata": {},
     "output_type": "execute_result"
    }
   ],
   "source": [
    "t = tt.drop(columns='ID')\n",
    "t = t.groupby('Group').mean()\n",
    "t"
   ]
  },
  {
   "cell_type": "markdown",
   "metadata": {},
   "source": [
    "### Took table cover during earthquake\n",
    "For every person we collect : \n",
    "* N_T: number of times participant went under table\n",
    "* A_D: average duration of being inside table\n",
    "* T_D: total duration inside table\n",
    "* A_D_E: average duration of being inside table during Earthquake\n",
    "* T_D_E: total duration inside table during Earthquake"
   ]
  },
  {
   "cell_type": "code",
   "execution_count": 369,
   "metadata": {},
   "outputs": [],
   "source": [
    "def _get_earthquake_times(df: pd.DataFrame) -> tuple[float, float]:\n",
    "    \"\"\"Extracts the start and end times of the earthquake from the DataFrame.\"\"\"\n",
    "\n",
    "    earthquake_start_events = df[df[\"EventType\"] == \"EarthquakeStart\"]\n",
    "    earthquake_end_events = df[df[\"EventType\"] == \"EarthquakeEnd\"]\n",
    "    if not earthquake_start_events.empty and not earthquake_end_events.empty:\n",
    "        start_time = earthquake_start_events.iloc[0][\"Time\"]\n",
    "        end_time = earthquake_end_events.iloc[-1][\"Time\"]\n",
    "        return start_time, end_time\n",
    "    else:\n",
    "        raise ValueError(\"EarthquakeStart or EarthquakeEnd event not found in the DataFrame.\")\n",
    "\n",
    "def _prepare_table_cover_events(df: pd.DataFrame) -> pd.DataFrame:\n",
    "    \"\"\"Prepares a DataFrame containing only table cover entry and exit events, sorted by index.\"\"\"\n",
    "\n",
    "    table_cover_taken = df[df[\"EventType\"] == \"EntryUnderTable\"]\n",
    "    table_cover_removed = df[df[\"EventType\"] == \"ExitUnderTable\"]\n",
    "    df_t = pd.concat([table_cover_taken, table_cover_removed])\n",
    "    df_t.sort_index(inplace=True)\n",
    "    return df_t\n",
    "\n",
    "def _calculate_duration(start_time: float, end_time: float) -> float:\n",
    "    \"\"\"Calculates the duration between two time points.\"\"\"\n",
    "    return end_time - start_time\n",
    "\n",
    "def _calculate_earthquake_overlap_duration(entry_time: float, exit_time: float, earthquake_start_time: float, earthquake_end_time: float) -> float:\n",
    "    \"\"\"Calculates the duration of overlap between a table cover event and the earthquake.\"\"\"\n",
    "\n",
    "    return max(0, min(exit_time, earthquake_end_time) - max(entry_time, earthquake_start_time))\n",
    "\n",
    "def get_table_cover_stats(df: pd.DataFrame, participant_id: str, group: str) -> list[str | float]:\n",
    "    \"\"\"Calculates statistics related to taking cover under a table during an earthquake for a single participant.\"\"\"\n",
    "    \n",
    "    try:\n",
    "        earthquake_start_time, earthquake_end_time = _get_earthquake_times(df)\n",
    "    except ValueError as e:\n",
    "        print(f\"Error for participant {participant_id} in group {group}: {e}\")\n",
    "        return [participant_id, group, 0, 0, 0, 0, 0]\n",
    "\n",
    "    df_t = _prepare_table_cover_events(df)\n",
    "    cover_attempts = df_t.shape[0] // 2\n",
    "    total_duration_in_table_cover = 0\n",
    "    total_duration_in_table_cover_during_earthquake = 0\n",
    "\n",
    "    for i in range(0, len(df_t), 2):\n",
    "        try:\n",
    "            entry_time = df_t.iloc[i][\"Time\"]\n",
    "            exit_time = df_t.iloc[i + 1][\"Time\"]\n",
    "\n",
    "            duration_in_table = _calculate_duration(entry_time, exit_time)\n",
    "            total_duration_in_table_cover += duration_in_table\n",
    "\n",
    "            overlap_duration = _calculate_earthquake_overlap_duration(\n",
    "                entry_time, exit_time, earthquake_start_time, earthquake_end_time\n",
    "            )\n",
    "            total_duration_in_table_cover_during_earthquake += overlap_duration\n",
    "\n",
    "        except IndexError:\n",
    "            print(f\"Error: Mismatched entry and exit under table events for participant {participant_id} in group {group}\")\n",
    "            continue\n",
    "\n",
    "    if cover_attempts > 0:\n",
    "        average_duration_in_table_cover = total_duration_in_table_cover / cover_attempts\n",
    "        average_duration_in_table_cover_during_earthquake = total_duration_in_table_cover_during_earthquake / cover_attempts\n",
    "    else:\n",
    "        average_duration_in_table_cover = 0\n",
    "        average_duration_in_table_cover_during_earthquake = 0\n",
    "\n",
    "    user_stats = [\n",
    "        participant_id,\n",
    "        group,\n",
    "        cover_attempts,\n",
    "        average_duration_in_table_cover / 1000,\n",
    "        total_duration_in_table_cover / 1000,\n",
    "        total_duration_in_table_cover_during_earthquake / 1000,\n",
    "        average_duration_in_table_cover_during_earthquake / 1000,\n",
    "    ]\n",
    "    return user_stats\n",
    "\n"
   ]
  },
  {
   "cell_type": "code",
   "execution_count": 371,
   "metadata": {},
   "outputs": [],
   "source": [
    "def get_table_cover_stats_for_group(group, data_file_paths, groups):\n",
    "    \"\"\"Calculates statistics related to taking cover under a table during an earthquake for all participants in a group.\"\"\"\n",
    "    table_cover_stats = []\n",
    "    for file_path in data_file_paths[group]:\n",
    "        df = get_cleaned_data(file_path, groups)\n",
    "        table_cover_stats.append(get_table_cover_stats(df, os.path.basename(file_path).split(\".\")[0], group))\n",
    "    table_cover_stats = pd.DataFrame(\n",
    "        table_cover_stats,\n",
    "        columns=[\n",
    "            \"ID\",\n",
    "            \"Group\",\n",
    "            \"CoverAttempts\",\n",
    "            \"AverageDurationInTableCover\",\n",
    "            \"TotalDurationInTableCover\",\n",
    "            \"TotalDurationInTableCoverDuringEarthquake\",\n",
    "            \"AverageDurationInTableCoverDuringEarthquake\",\n",
    "        ],\n",
    "    )\n",
    "    return table_cover_stats\n",
    "\n",
    "def get_table_cover_stats_for_all_groups(data_file_paths, groups):\n",
    "    \"\"\"Calculates statistics related to taking cover under a table during an earthquake for all participants in all groups.\"\"\"\n",
    "    table_cover_stats = []\n",
    "    for group in data_file_paths:\n",
    "        table_cover_stats.append(get_table_cover_stats_for_group(group, data_file_paths, groups))\n",
    "    table_cover_stats = pd.concat(table_cover_stats)\n",
    "    return table_cover_stats\n",
    "\n",
    "tt = get_table_cover_stats_for_all_groups(data_file_paths, groups)"
   ]
  },
  {
   "cell_type": "code",
   "execution_count": 372,
   "metadata": {},
   "outputs": [
    {
     "data": {
      "application/vnd.microsoft.datawrangler.viewer.v0+json": {
       "columns": [
        {
         "name": "Group",
         "rawType": "object",
         "type": "string"
        },
        {
         "name": "No Cover Attempts",
         "rawType": "int64",
         "type": "integer"
        },
        {
         "name": "Cover Attempts",
         "rawType": "int64",
         "type": "integer"
        }
       ],
       "conversionMethod": "pd.DataFrame",
       "ref": "d0dfe570-86ef-4a3e-ab90-ba5aaeb1564a",
       "rows": [
        [
         "Group 1",
         "8",
         "12"
        ],
        [
         "Group 2",
         "15",
         "5"
        ],
        [
         "Group 3",
         "2",
         "14"
        ],
        [
         "Group 4",
         "5",
         "9"
        ]
       ],
       "shape": {
        "columns": 2,
        "rows": 4
       }
      },
      "text/html": [
       "<div>\n",
       "<style scoped>\n",
       "    .dataframe tbody tr th:only-of-type {\n",
       "        vertical-align: middle;\n",
       "    }\n",
       "\n",
       "    .dataframe tbody tr th {\n",
       "        vertical-align: top;\n",
       "    }\n",
       "\n",
       "    .dataframe thead th {\n",
       "        text-align: right;\n",
       "    }\n",
       "</style>\n",
       "<table border=\"1\" class=\"dataframe\">\n",
       "  <thead>\n",
       "    <tr style=\"text-align: right;\">\n",
       "      <th>CoverAttempts</th>\n",
       "      <th>No Cover Attempts</th>\n",
       "      <th>Cover Attempts</th>\n",
       "    </tr>\n",
       "    <tr>\n",
       "      <th>Group</th>\n",
       "      <th></th>\n",
       "      <th></th>\n",
       "    </tr>\n",
       "  </thead>\n",
       "  <tbody>\n",
       "    <tr>\n",
       "      <th>Group 1</th>\n",
       "      <td>8</td>\n",
       "      <td>12</td>\n",
       "    </tr>\n",
       "    <tr>\n",
       "      <th>Group 2</th>\n",
       "      <td>15</td>\n",
       "      <td>5</td>\n",
       "    </tr>\n",
       "    <tr>\n",
       "      <th>Group 3</th>\n",
       "      <td>2</td>\n",
       "      <td>14</td>\n",
       "    </tr>\n",
       "    <tr>\n",
       "      <th>Group 4</th>\n",
       "      <td>5</td>\n",
       "      <td>9</td>\n",
       "    </tr>\n",
       "  </tbody>\n",
       "</table>\n",
       "</div>"
      ],
      "text/plain": [
       "CoverAttempts  No Cover Attempts  Cover Attempts\n",
       "Group                                           \n",
       "Group 1                        8              12\n",
       "Group 2                       15               5\n",
       "Group 3                        2              14\n",
       "Group 4                        5               9"
      ]
     },
     "execution_count": 372,
     "metadata": {},
     "output_type": "execute_result"
    }
   ],
   "source": [
    "tp = tt.drop(columns='ID')\n",
    "tp = tp.groupby(['Group',tt[\"CoverAttempts\"] > 0]).count().iloc[:,0].unstack()\n",
    "tp.rename(columns={False: 'No Cover Attempts', True: 'Cover Attempts'}, inplace=True)\n",
    "tp"
   ]
  },
  {
   "cell_type": "code",
   "execution_count": 373,
   "metadata": {},
   "outputs": [
    {
     "data": {
      "application/vnd.microsoft.datawrangler.viewer.v0+json": {
       "columns": [
        {
         "name": "Group",
         "rawType": "object",
         "type": "string"
        },
        {
         "name": "CoverAttempts",
         "rawType": "float64",
         "type": "float"
        },
        {
         "name": "AverageDurationInTableCover",
         "rawType": "float64",
         "type": "float"
        },
        {
         "name": "TotalDurationInTableCover",
         "rawType": "float64",
         "type": "float"
        },
        {
         "name": "TotalDurationInTableCoverDuringEarthquake",
         "rawType": "float64",
         "type": "float"
        },
        {
         "name": "AverageDurationInTableCoverDuringEarthquake",
         "rawType": "float64",
         "type": "float"
        }
       ],
       "conversionMethod": "pd.DataFrame",
       "ref": "e5b43633-d150-45cd-8666-b3c85ee97adb",
       "rows": [
        [
         "Group 1",
         "1.35",
         "6.080008333333334",
         "10.3758",
         "9.19285",
         "5.434333333333333"
        ],
        [
         "Group 2",
         "0.4",
         "1.6525666666666665",
         "4.2255",
         "0.35134999999999994",
         "0.13940000000000002"
        ],
        [
         "Group 3",
         "1.4375",
         "13.49241875",
         "18.1415625",
         "15.938375",
         "11.910925"
        ],
        [
         "Group 4",
         "0.9285714285714286",
         "10.613142857142858",
         "14.280642857142857",
         "9.400071428571428",
         "6.4673928571428565"
        ]
       ],
       "shape": {
        "columns": 5,
        "rows": 4
       }
      },
      "text/html": [
       "<div>\n",
       "<style scoped>\n",
       "    .dataframe tbody tr th:only-of-type {\n",
       "        vertical-align: middle;\n",
       "    }\n",
       "\n",
       "    .dataframe tbody tr th {\n",
       "        vertical-align: top;\n",
       "    }\n",
       "\n",
       "    .dataframe thead th {\n",
       "        text-align: right;\n",
       "    }\n",
       "</style>\n",
       "<table border=\"1\" class=\"dataframe\">\n",
       "  <thead>\n",
       "    <tr style=\"text-align: right;\">\n",
       "      <th></th>\n",
       "      <th>CoverAttempts</th>\n",
       "      <th>AverageDurationInTableCover</th>\n",
       "      <th>TotalDurationInTableCover</th>\n",
       "      <th>TotalDurationInTableCoverDuringEarthquake</th>\n",
       "      <th>AverageDurationInTableCoverDuringEarthquake</th>\n",
       "    </tr>\n",
       "    <tr>\n",
       "      <th>Group</th>\n",
       "      <th></th>\n",
       "      <th></th>\n",
       "      <th></th>\n",
       "      <th></th>\n",
       "      <th></th>\n",
       "    </tr>\n",
       "  </thead>\n",
       "  <tbody>\n",
       "    <tr>\n",
       "      <th>Group 1</th>\n",
       "      <td>1.350000</td>\n",
       "      <td>6.080008</td>\n",
       "      <td>10.375800</td>\n",
       "      <td>9.192850</td>\n",
       "      <td>5.434333</td>\n",
       "    </tr>\n",
       "    <tr>\n",
       "      <th>Group 2</th>\n",
       "      <td>0.400000</td>\n",
       "      <td>1.652567</td>\n",
       "      <td>4.225500</td>\n",
       "      <td>0.351350</td>\n",
       "      <td>0.139400</td>\n",
       "    </tr>\n",
       "    <tr>\n",
       "      <th>Group 3</th>\n",
       "      <td>1.437500</td>\n",
       "      <td>13.492419</td>\n",
       "      <td>18.141562</td>\n",
       "      <td>15.938375</td>\n",
       "      <td>11.910925</td>\n",
       "    </tr>\n",
       "    <tr>\n",
       "      <th>Group 4</th>\n",
       "      <td>0.928571</td>\n",
       "      <td>10.613143</td>\n",
       "      <td>14.280643</td>\n",
       "      <td>9.400071</td>\n",
       "      <td>6.467393</td>\n",
       "    </tr>\n",
       "  </tbody>\n",
       "</table>\n",
       "</div>"
      ],
      "text/plain": [
       "         CoverAttempts  AverageDurationInTableCover  \\\n",
       "Group                                                 \n",
       "Group 1       1.350000                     6.080008   \n",
       "Group 2       0.400000                     1.652567   \n",
       "Group 3       1.437500                    13.492419   \n",
       "Group 4       0.928571                    10.613143   \n",
       "\n",
       "         TotalDurationInTableCover  TotalDurationInTableCoverDuringEarthquake  \\\n",
       "Group                                                                           \n",
       "Group 1                  10.375800                                   9.192850   \n",
       "Group 2                   4.225500                                   0.351350   \n",
       "Group 3                  18.141562                                  15.938375   \n",
       "Group 4                  14.280643                                   9.400071   \n",
       "\n",
       "         AverageDurationInTableCoverDuringEarthquake  \n",
       "Group                                                 \n",
       "Group 1                                     5.434333  \n",
       "Group 2                                     0.139400  \n",
       "Group 3                                    11.910925  \n",
       "Group 4                                     6.467393  "
      ]
     },
     "execution_count": 373,
     "metadata": {},
     "output_type": "execute_result"
    }
   ],
   "source": [
    "t = tt.drop(columns='ID')\n",
    "t.groupby('Group').mean()"
   ]
  },
  {
   "cell_type": "markdown",
   "metadata": {},
   "source": [
    "### Player sitting behaviour\n",
    "* N_S: Number of times the player became seated (transition from False to True).\n",
    "* N_U: Number of times the player became unseated (transition from True to False).\n",
    "* N_Seated_Periods: Number of distinct periods the player was seated.\n",
    "* A_D_Seated: Average duration of being seated.\n",
    "* T_D_Seated: Total duration of being seated.\n",
    "* A_D_Seated_E: Average duration of being seated during the Earthquake.\n",
    "* T_D_Seated_E: Total duration of being seated during the Earthquake."
   ]
  },
  {
   "cell_type": "code",
   "execution_count": null,
   "metadata": {},
   "outputs": [],
   "source": [
    "def get_seated_stats(df: pd.DataFrame, participant_id: str, group: str) -> list[str | float]:\n",
    "    try:\n",
    "        earthquake_start_time, earthquake_end_time = _get_earthquake_times(df)\n",
    "    except ValueError as e:\n",
    "        print(f\"Error for participant {participant_id} in group {group}: {e}\")\n",
    "        return [participant_id, group, 0, 0, 0, 0, 0, 0, 0]  # Added more zeros for new metrics\n",
    "\n",
    "    seated_count = 0\n",
    "    unseated_count = 0\n",
    "    num_seated_periods = 0\n",
    "    total_seated_duration = 0\n",
    "    total_seated_duration_during_earthquake = 0\n",
    "    current_seated_start_time = None\n",
    "\n",
    "    for _, row in df.iterrows():\n",
    "        current_time = row['Time']\n",
    "        is_seated = row['PlayerSeated']\n",
    "\n",
    "        if is_seated and current_seated_start_time is None:\n",
    "            current_seated_start_time = current_time\n",
    "            seated_count += 1\n",
    "        elif not is_seated and current_seated_start_time is not None:\n",
    "            duration = current_time - current_seated_start_time\n",
    "            total_seated_duration += duration\n",
    "            num_seated_periods += 1\n",
    "            overlap = _calculate_earthquake_overlap_duration(\n",
    "                current_seated_start_time, current_time, earthquake_start_time, earthquake_end_time\n",
    "            )\n",
    "            total_seated_duration_during_earthquake += overlap\n",
    "            current_seated_start_time = None\n",
    "            unseated_count += 1\n",
    "\n",
    "    # Handle if seated at the end\n",
    "    if current_seated_start_time is not None:\n",
    "        duration = df['Time'].iloc[-1] - current_seated_start_time\n",
    "        total_seated_duration += duration\n",
    "        num_seated_periods += 1\n",
    "        overlap = _calculate_earthquake_overlap_duration(\n",
    "            current_seated_start_time, df['Time'].iloc[-1], earthquake_start_time, earthquake_end_time\n",
    "        )\n",
    "        total_seated_duration_during_earthquake += overlap\n",
    "\n",
    "    average_seated_duration = total_seated_duration / num_seated_periods if num_seated_periods > 0 else 0\n",
    "    average_seated_duration_during_earthquake = total_seated_duration_during_earthquake / num_seated_periods if num_seated_periods > 0 else 0\n",
    "\n",
    "    user_stats = [\n",
    "        participant_id,\n",
    "        group,\n",
    "        seated_count,  # N_S\n",
    "        average_seated_duration / 1000,\n",
    "        total_seated_duration / 1000,\n",
    "        total_seated_duration_during_earthquake / 1000,\n",
    "        average_seated_duration_during_earthquake / 1000,\n",
    "    ]\n",
    "    return user_stats"
   ]
  },
  {
   "cell_type": "code",
   "execution_count": 379,
   "metadata": {},
   "outputs": [],
   "source": [
    "def get_seated_stats_for_group(group, data_file_paths, groups):\n",
    "    seated_stats = []\n",
    "    for file_path in data_file_paths[group]:\n",
    "        df = get_cleaned_data(file_path, groups)\n",
    "        seated_stats.append(get_seated_stats(df, os.path.basename(file_path).split(\".\")[0], group))\n",
    "    seated_stats = pd.DataFrame(\n",
    "        seated_stats,\n",
    "        columns=[\n",
    "            \"ID\",\n",
    "            \"Group\",\n",
    "            \"SeatedCount\",\n",
    "            \"AverageSeatedDuration\",\n",
    "            \"TotalSeatedDuration\",\n",
    "            \"TotalSeatedDurationDuringEarthquake\",\n",
    "            \"AverageSeatedDurationDuringEarthquake\",\n",
    "        ],\n",
    "    )\n",
    "    return seated_stats\n",
    "\n",
    "def get_seated_stats_for_all_groups(data_file_paths, groups):\n",
    "    seated_stats = []\n",
    "    for group in data_file_paths:\n",
    "        seated_stats.append(get_seated_stats_for_group(group, data_file_paths, groups))\n",
    "    seated_stats = pd.concat(seated_stats)\n",
    "    return seated_stats\n",
    "\n",
    "tt = get_seated_stats_for_all_groups(data_file_paths, groups)"
   ]
  },
  {
   "cell_type": "code",
   "execution_count": 380,
   "metadata": {},
   "outputs": [
    {
     "data": {
      "application/vnd.microsoft.datawrangler.viewer.v0+json": {
       "columns": [
        {
         "name": "Group",
         "rawType": "object",
         "type": "string"
        },
        {
         "name": "SeatedCount",
         "rawType": "float64",
         "type": "float"
        },
        {
         "name": "AverageSeatedDuration",
         "rawType": "float64",
         "type": "float"
        },
        {
         "name": "TotalSeatedDuration",
         "rawType": "float64",
         "type": "float"
        },
        {
         "name": "TotalSeatedDurationDuringEarthquake",
         "rawType": "float64",
         "type": "float"
        },
        {
         "name": "AverageSeatedDurationDuringEarthquake",
         "rawType": "float64",
         "type": "float"
        }
       ],
       "conversionMethod": "pd.DataFrame",
       "ref": "7eb6597a-21c2-43f1-b707-8bb1514054fe",
       "rows": [
        [
         "Group 1",
         "10.55",
         "3.949327694266303",
         "37.197250000000004",
         "28.503300000000003",
         "3.201338968806821"
        ],
        [
         "Group 2",
         "2.75",
         "1.0671107142857141",
         "8.9466",
         "2.87925",
         "0.35125277777777775"
        ],
        [
         "Group 3",
         "11.875",
         "6.982259654494811",
         "58.55925",
         "42.483875",
         "5.4463755561279"
        ],
        [
         "Group 4",
         "4.857142857142857",
         "4.160383039579468",
         "28.373285714285714",
         "12.714285714285714",
         "1.3620991548134405"
        ]
       ],
       "shape": {
        "columns": 5,
        "rows": 4
       }
      },
      "text/html": [
       "<div>\n",
       "<style scoped>\n",
       "    .dataframe tbody tr th:only-of-type {\n",
       "        vertical-align: middle;\n",
       "    }\n",
       "\n",
       "    .dataframe tbody tr th {\n",
       "        vertical-align: top;\n",
       "    }\n",
       "\n",
       "    .dataframe thead th {\n",
       "        text-align: right;\n",
       "    }\n",
       "</style>\n",
       "<table border=\"1\" class=\"dataframe\">\n",
       "  <thead>\n",
       "    <tr style=\"text-align: right;\">\n",
       "      <th></th>\n",
       "      <th>SeatedCount</th>\n",
       "      <th>AverageSeatedDuration</th>\n",
       "      <th>TotalSeatedDuration</th>\n",
       "      <th>TotalSeatedDurationDuringEarthquake</th>\n",
       "      <th>AverageSeatedDurationDuringEarthquake</th>\n",
       "    </tr>\n",
       "    <tr>\n",
       "      <th>Group</th>\n",
       "      <th></th>\n",
       "      <th></th>\n",
       "      <th></th>\n",
       "      <th></th>\n",
       "      <th></th>\n",
       "    </tr>\n",
       "  </thead>\n",
       "  <tbody>\n",
       "    <tr>\n",
       "      <th>Group 1</th>\n",
       "      <td>10.550000</td>\n",
       "      <td>3.949328</td>\n",
       "      <td>37.197250</td>\n",
       "      <td>28.503300</td>\n",
       "      <td>3.201339</td>\n",
       "    </tr>\n",
       "    <tr>\n",
       "      <th>Group 2</th>\n",
       "      <td>2.750000</td>\n",
       "      <td>1.067111</td>\n",
       "      <td>8.946600</td>\n",
       "      <td>2.879250</td>\n",
       "      <td>0.351253</td>\n",
       "    </tr>\n",
       "    <tr>\n",
       "      <th>Group 3</th>\n",
       "      <td>11.875000</td>\n",
       "      <td>6.982260</td>\n",
       "      <td>58.559250</td>\n",
       "      <td>42.483875</td>\n",
       "      <td>5.446376</td>\n",
       "    </tr>\n",
       "    <tr>\n",
       "      <th>Group 4</th>\n",
       "      <td>4.857143</td>\n",
       "      <td>4.160383</td>\n",
       "      <td>28.373286</td>\n",
       "      <td>12.714286</td>\n",
       "      <td>1.362099</td>\n",
       "    </tr>\n",
       "  </tbody>\n",
       "</table>\n",
       "</div>"
      ],
      "text/plain": [
       "         SeatedCount  AverageSeatedDuration  TotalSeatedDuration  \\\n",
       "Group                                                              \n",
       "Group 1    10.550000               3.949328            37.197250   \n",
       "Group 2     2.750000               1.067111             8.946600   \n",
       "Group 3    11.875000               6.982260            58.559250   \n",
       "Group 4     4.857143               4.160383            28.373286   \n",
       "\n",
       "         TotalSeatedDurationDuringEarthquake  \\\n",
       "Group                                          \n",
       "Group 1                            28.503300   \n",
       "Group 2                             2.879250   \n",
       "Group 3                            42.483875   \n",
       "Group 4                            12.714286   \n",
       "\n",
       "         AverageSeatedDurationDuringEarthquake  \n",
       "Group                                           \n",
       "Group 1                               3.201339  \n",
       "Group 2                               0.351253  \n",
       "Group 3                               5.446376  \n",
       "Group 4                               1.362099  "
      ]
     },
     "execution_count": 380,
     "metadata": {},
     "output_type": "execute_result"
    }
   ],
   "source": [
    "t = tt.drop(columns='ID')\n",
    "t.groupby('Group').mean()"
   ]
  },
  {
   "cell_type": "code",
   "execution_count": 382,
   "metadata": {},
   "outputs": [
    {
     "data": {
      "application/vnd.microsoft.datawrangler.viewer.v0+json": {
       "columns": [
        {
         "name": "index",
         "rawType": "int64",
         "type": "integer"
        },
        {
         "name": "ID",
         "rawType": "object",
         "type": "string"
        },
        {
         "name": "Group",
         "rawType": "object",
         "type": "string"
        },
        {
         "name": "SeatedCount",
         "rawType": "int64",
         "type": "integer"
        },
        {
         "name": "AverageSeatedDuration",
         "rawType": "float64",
         "type": "float"
        },
        {
         "name": "TotalSeatedDuration",
         "rawType": "float64",
         "type": "float"
        },
        {
         "name": "TotalSeatedDurationDuringEarthquake",
         "rawType": "float64",
         "type": "float"
        },
        {
         "name": "AverageSeatedDurationDuringEarthquake",
         "rawType": "float64",
         "type": "float"
        }
       ],
       "conversionMethod": "pd.DataFrame",
       "ref": "0b742cd2-8f71-49fd-900e-05c6d5066136",
       "rows": [
        [
         "0",
         "11_B22214",
         "Group 1",
         "0",
         "0.0",
         "0.0",
         "0.0",
         "0.0"
        ],
        [
         "1",
         "13_B22112",
         "Group 1",
         "10",
         "8.1061",
         "81.061",
         "50.649",
         "5.0649"
        ],
        [
         "2",
         "15_B22115",
         "Group 1",
         "8",
         "4.9975",
         "39.98",
         "39.074",
         "4.88425"
        ],
        [
         "3",
         "17_B2294",
         "Group 1",
         "18",
         "2.127944444444444",
         "38.303",
         "27.274",
         "1.5152222222222222"
        ],
        [
         "4",
         "19_B22094",
         "Group 1",
         "7",
         "6.498857142857143",
         "45.492",
         "42.993",
         "6.141857142857143"
        ],
        [
         "5",
         "21_B22131",
         "Group 1",
         "17",
         "1.3219411764705884",
         "22.473",
         "22.473",
         "1.3219411764705884"
        ],
        [
         "6",
         "24_B20265",
         "Group 1",
         "1",
         "0.899",
         "0.899",
         "0.0",
         "0.0"
        ],
        [
         "7",
         "26_B22116",
         "Group 1",
         "8",
         "4.56725",
         "36.538",
         "34.26",
         "4.2825"
        ],
        [
         "8",
         "28_B22104",
         "Group 1",
         "0",
         "0.0",
         "0.0",
         "0.0",
         "0.0"
        ],
        [
         "9",
         "30_B22146",
         "Group 1",
         "8",
         "9.023875",
         "72.191",
         "53.331",
         "6.666375"
        ],
        [
         "10",
         "32_B22087",
         "Group 1",
         "5",
         "7.2783999999999995",
         "36.392",
         "34.781",
         "6.9562"
        ],
        [
         "11",
         "33_B21184",
         "Group 1",
         "20",
         "4.05175",
         "81.035",
         "43.64",
         "2.182"
        ],
        [
         "12",
         "35_B21177",
         "Group 1",
         "5",
         "8.2086",
         "41.043",
         "39.355",
         "7.871"
        ],
        [
         "13",
         "38_B22134",
         "Group 1",
         "5",
         "9.276200000000001",
         "46.381",
         "40.194",
         "8.0388"
        ],
        [
         "14",
         "40_B21268",
         "Group 1",
         "19",
         "2.2042105263157894",
         "41.88",
         "27.343",
         "1.4391052631578949"
        ],
        [
         "15",
         "42_B21121",
         "Group 1",
         "28",
         "1.4870714285714286",
         "41.638",
         "36.65",
         "1.3089285714285714"
        ],
        [
         "16",
         "44_B22095",
         "Group 1",
         "16",
         "3.4621875",
         "55.395",
         "52.216",
         "3.2635"
        ],
        [
         "17",
         "5_B22122",
         "Group 1",
         "10",
         "0.6635",
         "6.635",
         "5.557",
         "0.5557000000000001"
        ],
        [
         "18",
         "7_B22290",
         "Group 1",
         "8",
         "3.001",
         "24.008",
         "20.276",
         "2.5345"
        ],
        [
         "19",
         "9_B22109",
         "Group 1",
         "18",
         "1.8111666666666668",
         "32.601",
         "0.0",
         "0.0"
        ],
        [
         "0",
         "10_B22133",
         "Group 2",
         "9",
         "10.339222222222222",
         "93.053",
         "17.949",
         "1.9943333333333333"
        ],
        [
         "1",
         "14_B22129",
         "Group 2",
         "7",
         "1.5571428571428572",
         "10.9",
         "6.391",
         "0.913"
        ],
        [
         "2",
         "16_B22105",
         "Group 2",
         "0",
         "0.0",
         "0.0",
         "0.0",
         "0.0"
        ],
        [
         "3",
         "18_B22119",
         "Group 2",
         "7",
         "0.6365714285714286",
         "4.456",
         "0.0",
         "0.0"
        ],
        [
         "4",
         "20_B22202",
         "Group 2",
         "0",
         "0.0",
         "0.0",
         "0.0",
         "0.0"
        ],
        [
         "5",
         "22_B22177",
         "Group 2",
         "6",
         "0.7196666666666667",
         "4.318",
         "4.318",
         "0.7196666666666667"
        ],
        [
         "6",
         "23_B22084",
         "Group 2",
         "0",
         "0.0",
         "0.0",
         "0.0",
         "0.0"
        ],
        [
         "7",
         "25_B22111",
         "Group 2",
         "0",
         "0.0",
         "0.0",
         "0.0",
         "0.0"
        ],
        [
         "8",
         "27_B22208",
         "Group 2",
         "0",
         "0.0",
         "0.0",
         "0.0",
         "0.0"
        ],
        [
         "9",
         "29_B22128",
         "Group 2",
         "0",
         "0.0",
         "0.0",
         "0.0",
         "0.0"
        ],
        [
         "10",
         "31_B22113",
         "Group 2",
         "0",
         "0.0",
         "0.0",
         "0.0",
         "0.0"
        ],
        [
         "11",
         "34_B21088",
         "Group 2",
         "0",
         "0.0",
         "0.0",
         "0.0",
         "0.0"
        ],
        [
         "12",
         "36_B22124",
         "Group 2",
         "0",
         "0.0",
         "0.0",
         "0.0",
         "0.0"
        ],
        [
         "13",
         "37_B22085",
         "Group 2",
         "0",
         "0.0",
         "0.0",
         "0.0",
         "0.0"
        ],
        [
         "14",
         "39_B22108",
         "Group 2",
         "0",
         "0.0",
         "0.0",
         "0.0",
         "0.0"
        ],
        [
         "15",
         "41_B21034",
         "Group 2",
         "1",
         "0.501",
         "0.501",
         "0.0",
         "0.0"
        ],
        [
         "16",
         "43_B22145",
         "Group 2",
         "1",
         "1.687",
         "1.687",
         "0.0",
         "0.0"
        ],
        [
         "17",
         "45_B22080",
         "Group 2",
         "6",
         "3.5176666666666665",
         "21.106",
         "16.119",
         "2.6865"
        ],
        [
         "18",
         "6_B21183",
         "Group 2",
         "0",
         "0.0",
         "0.0",
         "0.0",
         "0.0"
        ],
        [
         "19",
         "8_B22229",
         "Group 2",
         "18",
         "2.3839444444444444",
         "42.911",
         "12.808",
         "0.7115555555555555"
        ],
        [
         "0",
         "46_B22106",
         "Group 3",
         "13",
         "5.652615384615385",
         "73.484",
         "48.471",
         "3.7285384615384616"
        ],
        [
         "1",
         "48_B22127",
         "Group 3",
         "8",
         "6.6715",
         "53.372",
         "45.074",
         "5.63425"
        ],
        [
         "2",
         "51_B22093",
         "Group 3",
         "6",
         "11.160833333333334",
         "66.965",
         "42.308",
         "7.051333333333333"
        ],
        [
         "3",
         "52_B21091",
         "Group 3",
         "6",
         "11.160833333333334",
         "66.965",
         "42.308",
         "7.051333333333333"
        ],
        [
         "4",
         "54_B22086",
         "Group 3",
         "9",
         "5.863777777777777",
         "52.774",
         "47.132",
         "5.236888888888888"
        ],
        [
         "5",
         "56_B22231",
         "Group 3",
         "8",
         "6.38475",
         "51.078",
         "48.979",
         "6.122375"
        ],
        [
         "6",
         "58_B21041",
         "Group 3",
         "15",
         "2.328",
         "34.92",
         "24.317",
         "1.6211333333333335"
        ],
        [
         "7",
         "60_B22153",
         "Group 3",
         "10",
         "7.089600000000001",
         "70.896",
         "39.722",
         "3.9722"
        ],
        [
         "8",
         "61_B21232",
         "Group 3",
         "14",
         "4.136642857142857",
         "57.913",
         "36.149",
         "2.5820714285714286"
        ],
        [
         "9",
         "63_B22132",
         "Group 3",
         "6",
         "6.6165",
         "39.699",
         "39.476",
         "6.579333333333333"
        ]
       ],
       "shape": {
        "columns": 7,
        "rows": 70
       }
      },
      "text/html": [
       "<div>\n",
       "<style scoped>\n",
       "    .dataframe tbody tr th:only-of-type {\n",
       "        vertical-align: middle;\n",
       "    }\n",
       "\n",
       "    .dataframe tbody tr th {\n",
       "        vertical-align: top;\n",
       "    }\n",
       "\n",
       "    .dataframe thead th {\n",
       "        text-align: right;\n",
       "    }\n",
       "</style>\n",
       "<table border=\"1\" class=\"dataframe\">\n",
       "  <thead>\n",
       "    <tr style=\"text-align: right;\">\n",
       "      <th></th>\n",
       "      <th>ID</th>\n",
       "      <th>Group</th>\n",
       "      <th>SeatedCount</th>\n",
       "      <th>AverageSeatedDuration</th>\n",
       "      <th>TotalSeatedDuration</th>\n",
       "      <th>TotalSeatedDurationDuringEarthquake</th>\n",
       "      <th>AverageSeatedDurationDuringEarthquake</th>\n",
       "    </tr>\n",
       "  </thead>\n",
       "  <tbody>\n",
       "    <tr>\n",
       "      <th>0</th>\n",
       "      <td>11_B22214</td>\n",
       "      <td>Group 1</td>\n",
       "      <td>0</td>\n",
       "      <td>0.000000</td>\n",
       "      <td>0.000</td>\n",
       "      <td>0.000</td>\n",
       "      <td>0.000000</td>\n",
       "    </tr>\n",
       "    <tr>\n",
       "      <th>1</th>\n",
       "      <td>13_B22112</td>\n",
       "      <td>Group 1</td>\n",
       "      <td>10</td>\n",
       "      <td>8.106100</td>\n",
       "      <td>81.061</td>\n",
       "      <td>50.649</td>\n",
       "      <td>5.064900</td>\n",
       "    </tr>\n",
       "    <tr>\n",
       "      <th>2</th>\n",
       "      <td>15_B22115</td>\n",
       "      <td>Group 1</td>\n",
       "      <td>8</td>\n",
       "      <td>4.997500</td>\n",
       "      <td>39.980</td>\n",
       "      <td>39.074</td>\n",
       "      <td>4.884250</td>\n",
       "    </tr>\n",
       "    <tr>\n",
       "      <th>3</th>\n",
       "      <td>17_B2294</td>\n",
       "      <td>Group 1</td>\n",
       "      <td>18</td>\n",
       "      <td>2.127944</td>\n",
       "      <td>38.303</td>\n",
       "      <td>27.274</td>\n",
       "      <td>1.515222</td>\n",
       "    </tr>\n",
       "    <tr>\n",
       "      <th>4</th>\n",
       "      <td>19_B22094</td>\n",
       "      <td>Group 1</td>\n",
       "      <td>7</td>\n",
       "      <td>6.498857</td>\n",
       "      <td>45.492</td>\n",
       "      <td>42.993</td>\n",
       "      <td>6.141857</td>\n",
       "    </tr>\n",
       "    <tr>\n",
       "      <th>...</th>\n",
       "      <td>...</td>\n",
       "      <td>...</td>\n",
       "      <td>...</td>\n",
       "      <td>...</td>\n",
       "      <td>...</td>\n",
       "      <td>...</td>\n",
       "      <td>...</td>\n",
       "    </tr>\n",
       "    <tr>\n",
       "      <th>9</th>\n",
       "      <td>66_B22114</td>\n",
       "      <td>Group 4</td>\n",
       "      <td>4</td>\n",
       "      <td>16.728500</td>\n",
       "      <td>66.914</td>\n",
       "      <td>0.000</td>\n",
       "      <td>0.000000</td>\n",
       "    </tr>\n",
       "    <tr>\n",
       "      <th>10</th>\n",
       "      <td>69_B24362</td>\n",
       "      <td>Group 4</td>\n",
       "      <td>14</td>\n",
       "      <td>4.720143</td>\n",
       "      <td>66.082</td>\n",
       "      <td>52.492</td>\n",
       "      <td>3.749429</td>\n",
       "    </tr>\n",
       "    <tr>\n",
       "      <th>11</th>\n",
       "      <td>71_B22121</td>\n",
       "      <td>Group 4</td>\n",
       "      <td>12</td>\n",
       "      <td>5.920083</td>\n",
       "      <td>71.041</td>\n",
       "      <td>58.090</td>\n",
       "      <td>4.840833</td>\n",
       "    </tr>\n",
       "    <tr>\n",
       "      <th>12</th>\n",
       "      <td>73_B20001</td>\n",
       "      <td>Group 4</td>\n",
       "      <td>1</td>\n",
       "      <td>7.609000</td>\n",
       "      <td>7.609</td>\n",
       "      <td>0.000</td>\n",
       "      <td>0.000000</td>\n",
       "    </tr>\n",
       "    <tr>\n",
       "      <th>13</th>\n",
       "      <td>75_B22101</td>\n",
       "      <td>Group 4</td>\n",
       "      <td>9</td>\n",
       "      <td>4.511889</td>\n",
       "      <td>40.607</td>\n",
       "      <td>2.383</td>\n",
       "      <td>0.264778</td>\n",
       "    </tr>\n",
       "  </tbody>\n",
       "</table>\n",
       "<p>70 rows × 7 columns</p>\n",
       "</div>"
      ],
      "text/plain": [
       "           ID    Group  SeatedCount  AverageSeatedDuration  \\\n",
       "0   11_B22214  Group 1            0               0.000000   \n",
       "1   13_B22112  Group 1           10               8.106100   \n",
       "2   15_B22115  Group 1            8               4.997500   \n",
       "3    17_B2294  Group 1           18               2.127944   \n",
       "4   19_B22094  Group 1            7               6.498857   \n",
       "..        ...      ...          ...                    ...   \n",
       "9   66_B22114  Group 4            4              16.728500   \n",
       "10  69_B24362  Group 4           14               4.720143   \n",
       "11  71_B22121  Group 4           12               5.920083   \n",
       "12  73_B20001  Group 4            1               7.609000   \n",
       "13  75_B22101  Group 4            9               4.511889   \n",
       "\n",
       "    TotalSeatedDuration  TotalSeatedDurationDuringEarthquake  \\\n",
       "0                 0.000                                0.000   \n",
       "1                81.061                               50.649   \n",
       "2                39.980                               39.074   \n",
       "3                38.303                               27.274   \n",
       "4                45.492                               42.993   \n",
       "..                  ...                                  ...   \n",
       "9                66.914                                0.000   \n",
       "10               66.082                               52.492   \n",
       "11               71.041                               58.090   \n",
       "12                7.609                                0.000   \n",
       "13               40.607                                2.383   \n",
       "\n",
       "    AverageSeatedDurationDuringEarthquake  \n",
       "0                                0.000000  \n",
       "1                                5.064900  \n",
       "2                                4.884250  \n",
       "3                                1.515222  \n",
       "4                                6.141857  \n",
       "..                                    ...  \n",
       "9                                0.000000  \n",
       "10                               3.749429  \n",
       "11                               4.840833  \n",
       "12                               0.000000  \n",
       "13                               0.264778  \n",
       "\n",
       "[70 rows x 7 columns]"
      ]
     },
     "execution_count": 382,
     "metadata": {},
     "output_type": "execute_result"
    }
   ],
   "source": [
    "tt"
   ]
  },
  {
   "cell_type": "code",
   "execution_count": null,
   "metadata": {},
   "outputs": [],
   "source": []
  }
 ],
 "metadata": {
  "kernelspec": {
   "display_name": "mtp",
   "language": "python",
   "name": "python3"
  },
  "language_info": {
   "codemirror_mode": {
    "name": "ipython",
    "version": 3
   },
   "file_extension": ".py",
   "mimetype": "text/x-python",
   "name": "python",
   "nbconvert_exporter": "python",
   "pygments_lexer": "ipython3",
   "version": "3.12.7"
  }
 },
 "nbformat": 4,
 "nbformat_minor": 2
}
