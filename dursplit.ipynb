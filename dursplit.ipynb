{
 "cells": [
  {
   "cell_type": "code",
   "execution_count": 1,
   "metadata": {},
   "outputs": [],
   "source": [
    "import os\n",
    "import glob\n",
    "import pandas as pd\n",
    "import numpy as np\n"
   ]
  },
  {
   "cell_type": "code",
   "execution_count": 12,
   "metadata": {},
   "outputs": [],
   "source": [
    "# dur_df = pd.read_csv('Data/EEG/29_dur.csv')\n",
    "# dur_df['timestamps'] = dur_df['timestamps']+198\n",
    "# dur_df.to_csv('Data/EEG/29_dur.csv', index=False)"
   ]
  },
  {
   "cell_type": "code",
   "execution_count": 69,
   "metadata": {},
   "outputs": [],
   "source": [
    "id='52'\n",
    "dur_df = pd.read_csv(f'Data/EEG/{id}_dur.csv')\n",
    "unity_df = pd.read_csv(glob.glob(f'Data/Unity Data/All/{id}_*.csv')[0])\n",
    "\n",
    "dur_df['timestamps'] = dur_df['timestamps'] - 1050 # Add the offset to the timestamps\n",
    "\n",
    "# Find the closest timestamps for EarthquakeStart and EarthquakeEnd\n",
    "# Convert the timestamps to seconds (/1000)\n",
    "earthquake_start_time = unity_df.loc[unity_df['EventType'] == 'EarthquakeStart', 'Time'].iloc[0]/1000\n",
    "earthquake_end_time = unity_df.loc[unity_df['EventType'] == 'EarthquakeEnd', 'Time'].iloc[0]/1000\n",
    "\n",
    "# Split the dur file into three parts\n",
    "dur1 = dur_df[dur_df['timestamps'] < earthquake_start_time]\n",
    "dur2 = dur_df[(dur_df['timestamps'] >= earthquake_start_time) & (dur_df['timestamps'] <= earthquake_end_time)]\n",
    "dur3 = dur_df[dur_df['timestamps'] > earthquake_end_time]\n"
   ]
  },
  {
   "cell_type": "code",
   "execution_count": 70,
   "metadata": {},
   "outputs": [],
   "source": [
    "# Save the three parts into separate CSV files\n",
    "dur1.to_csv(f'Data/EEG/dur/{id}_dur_pre_earthquake.csv', index=False)\n",
    "dur2.to_csv(f'Data/EEG/dur/{id}_dur_earthquake.csv', index=False)\n",
    "dur3.to_csv(f'Data/EEG/dur/{id}_dur_post_earthquake.csv', index=False)"
   ]
  },
  {
   "cell_type": "code",
   "execution_count": 2,
   "metadata": {},
   "outputs": [],
   "source": [
    "def split_dur_file(dur_file_path, unity_file_path,eeg_id):\n",
    "    # Load the dur file and unity file\n",
    "    dur_df = pd.read_csv(dur_file_path)\n",
    "    unity_df = pd.read_csv(unity_file_path)\n",
    "\n",
    "    # Find the closest timestamps for EarthquakeStart and EarthquakeEnd\n",
    "    # Convert the timestamps to seconds (/1000)\n",
    "    earthquake_start_time = unity_df.loc[unity_df['EventType'] == 'EarthquakeStart', 'Time'].iloc[0]/1000\n",
    "    earthquake_end_time = unity_df.loc[unity_df['EventType'] == 'EarthquakeEnd', 'Time'].iloc[0]/1000\n",
    "\n",
    "    # Split the dur file into three parts\n",
    "    dur1 = dur_df[dur_df['timestamps'] < earthquake_start_time]\n",
    "    dur2 = dur_df[(dur_df['timestamps'] >= earthquake_start_time) & (dur_df['timestamps'] <= earthquake_end_time)]\n",
    "    dur3 = dur_df[dur_df['timestamps'] > earthquake_end_time]\n",
    "\n",
    "    # Save the three parts into separate CSV files\n",
    "    dur1.to_csv(f'Data/EEG/dur/{eeg_id}_durPre.csv', index=False)\n",
    "    dur2.to_csv(f'Data/EEG/dur/{eeg_id}_durEarthquake.csv', index=False)\n",
    "    dur3.to_csv(f'Data/EEG/dur/{eeg_id}_durPost.csv', index=False)"
   ]
  },
  {
   "cell_type": "code",
   "execution_count": 7,
   "metadata": {},
   "outputs": [
    {
     "name": "stdout",
     "output_type": "stream",
     "text": [
      "['Data/EEG\\\\10_dur.csv', 'Data/EEG\\\\10_post.csv', 'Data/EEG\\\\10_pre.csv', 'Data/EEG\\\\11_dur.csv', 'Data/EEG\\\\11_post.csv', 'Data/EEG\\\\11_pre.csv', 'Data/EEG\\\\13_dur.csv', 'Data/EEG\\\\13_post.csv', 'Data/EEG\\\\13_pre.csv', 'Data/EEG\\\\14_dur.csv', 'Data/EEG\\\\14_post.csv', 'Data/EEG\\\\14_pre.csv', 'Data/EEG\\\\15_dur.csv', 'Data/EEG\\\\15_post.csv', 'Data/EEG\\\\15_pre.csv', 'Data/EEG\\\\16_dur.csv', 'Data/EEG\\\\16_post.csv', 'Data/EEG\\\\16_pre.csv', 'Data/EEG\\\\17_dur.csv', 'Data/EEG\\\\17_post.csv', 'Data/EEG\\\\17_pre.csv', 'Data/EEG\\\\18_dur.csv', 'Data/EEG\\\\18_post.csv', 'Data/EEG\\\\18_pre.csv', 'Data/EEG\\\\19_dur.csv', 'Data/EEG\\\\19_post.csv', 'Data/EEG\\\\19_pre.csv', 'Data/EEG\\\\20_dur.csv', 'Data/EEG\\\\20_post.csv', 'Data/EEG\\\\20_pre.csv', 'Data/EEG\\\\21_dur.csv', 'Data/EEG\\\\21_post.csv', 'Data/EEG\\\\21_pre.csv', 'Data/EEG\\\\22_dur.csv', 'Data/EEG\\\\22_post.csv', 'Data/EEG\\\\22_pre.csv', 'Data/EEG\\\\23_dur.csv', 'Data/EEG\\\\23_post.csv', 'Data/EEG\\\\23_pre.csv', 'Data/EEG\\\\24_dur.csv', 'Data/EEG\\\\24_post.csv', 'Data/EEG\\\\24_pre.csv', 'Data/EEG\\\\25_dur.csv', 'Data/EEG\\\\25_post.csv', 'Data/EEG\\\\25_pre.csv', 'Data/EEG\\\\26_dur.csv', 'Data/EEG\\\\26_post.csv', 'Data/EEG\\\\26_pre.csv', 'Data/EEG\\\\27_dur.csv', 'Data/EEG\\\\27_post.csv', 'Data/EEG\\\\27_pre.csv', 'Data/EEG\\\\28_dur.csv', 'Data/EEG\\\\28_post.csv', 'Data/EEG\\\\28_pre.csv', 'Data/EEG\\\\29_dur.csv', 'Data/EEG\\\\29_post.csv', 'Data/EEG\\\\29_pre.csv', 'Data/EEG\\\\30_dur.csv', 'Data/EEG\\\\30_post.csv', 'Data/EEG\\\\30_pre.csv', 'Data/EEG\\\\31_dur.csv', 'Data/EEG\\\\31_post.csv', 'Data/EEG\\\\31_pre.csv', 'Data/EEG\\\\32_dur.csv', 'Data/EEG\\\\32_post.csv', 'Data/EEG\\\\32_pre.csv', 'Data/EEG\\\\33_dur.csv', 'Data/EEG\\\\33_post.csv', 'Data/EEG\\\\33_pre.csv', 'Data/EEG\\\\34_dur.csv', 'Data/EEG\\\\34_post.csv', 'Data/EEG\\\\35_dur.csv', 'Data/EEG\\\\35_post.csv', 'Data/EEG\\\\35_pre.csv', 'Data/EEG\\\\36_dur.csv', 'Data/EEG\\\\36_post.csv', 'Data/EEG\\\\36_pre.csv', 'Data/EEG\\\\37_dur.csv', 'Data/EEG\\\\37_post.csv', 'Data/EEG\\\\37_pre.csv', 'Data/EEG\\\\38_dur.csv', 'Data/EEG\\\\38_post.csv', 'Data/EEG\\\\38_pre.csv', 'Data/EEG\\\\39_dur.csv', 'Data/EEG\\\\39_post.csv', 'Data/EEG\\\\39_pre.csv', 'Data/EEG\\\\40_dur.csv', 'Data/EEG\\\\40_post.csv', 'Data/EEG\\\\40_pre.csv', 'Data/EEG\\\\41_dur.csv', 'Data/EEG\\\\41_post.csv', 'Data/EEG\\\\41_pre.csv', 'Data/EEG\\\\42_dur.csv', 'Data/EEG\\\\42_post.csv', 'Data/EEG\\\\42_pre.csv', 'Data/EEG\\\\43_dur.csv', 'Data/EEG\\\\43_post.csv', 'Data/EEG\\\\43_pre.csv', 'Data/EEG\\\\44_dur.csv', 'Data/EEG\\\\44_post.csv', 'Data/EEG\\\\44_pre.csv', 'Data/EEG\\\\45_dur.csv', 'Data/EEG\\\\45_post.csv', 'Data/EEG\\\\45_pre.csv', 'Data/EEG\\\\46_dur.csv', 'Data/EEG\\\\46_post.csv', 'Data/EEG\\\\46_pre.csv', 'Data/EEG\\\\47_dur.csv', 'Data/EEG\\\\47_post.csv', 'Data/EEG\\\\47_pre.csv', 'Data/EEG\\\\48_dur.csv', 'Data/EEG\\\\48_post.csv', 'Data/EEG\\\\48_pre.csv', 'Data/EEG\\\\49_dur.csv', 'Data/EEG\\\\49_post.csv', 'Data/EEG\\\\49_pre.csv', 'Data/EEG\\\\50_dur.csv', 'Data/EEG\\\\50_post.csv', 'Data/EEG\\\\50_pre.csv', 'Data/EEG\\\\51_dur.csv', 'Data/EEG\\\\51_post.csv', 'Data/EEG\\\\51_pre.csv', 'Data/EEG\\\\52_dur.csv', 'Data/EEG\\\\52_post.csv', 'Data/EEG\\\\52_pre.csv', 'Data/EEG\\\\53_dur.csv', 'Data/EEG\\\\53_post.csv', 'Data/EEG\\\\53_pre.csv', 'Data/EEG\\\\54_dur.csv', 'Data/EEG\\\\54_post.csv', 'Data/EEG\\\\54_pre.csv', 'Data/EEG\\\\55_dur.csv', 'Data/EEG\\\\55_post.csv', 'Data/EEG\\\\55_pre.csv', 'Data/EEG\\\\56_dur.csv', 'Data/EEG\\\\56_post.csv', 'Data/EEG\\\\56_pre.csv', 'Data/EEG\\\\57_dur.csv', 'Data/EEG\\\\57_post.csv', 'Data/EEG\\\\57_pre.csv', 'Data/EEG\\\\58_dur.csv', 'Data/EEG\\\\58_post.csv', 'Data/EEG\\\\58_pre.csv', 'Data/EEG\\\\59_dur.csv', 'Data/EEG\\\\59_post.csv', 'Data/EEG\\\\59_pre.csv', 'Data/EEG\\\\5_dur.csv', 'Data/EEG\\\\5_post.csv', 'Data/EEG\\\\5_pre.csv', 'Data/EEG\\\\60_dur.csv', 'Data/EEG\\\\60_post.csv', 'Data/EEG\\\\61_dur.csv', 'Data/EEG\\\\61_post.csv', 'Data/EEG\\\\61_pre.csv', 'Data/EEG\\\\62_dur.csv', 'Data/EEG\\\\62_post.csv', 'Data/EEG\\\\62_pre.csv', 'Data/EEG\\\\63_dur.csv', 'Data/EEG\\\\63_post.csv', 'Data/EEG\\\\63_pre.csv', 'Data/EEG\\\\64_dur.csv', 'Data/EEG\\\\64_post.csv', 'Data/EEG\\\\64_pre.csv', 'Data/EEG\\\\65_dur.csv', 'Data/EEG\\\\65_post.csv', 'Data/EEG\\\\65_pre.csv', 'Data/EEG\\\\66_dur.csv', 'Data/EEG\\\\66_post.csv', 'Data/EEG\\\\66_pre.csv', 'Data/EEG\\\\67_dur.csv', 'Data/EEG\\\\67_post.csv', 'Data/EEG\\\\67_pre.csv', 'Data/EEG\\\\68_dur.csv', 'Data/EEG\\\\68_post.csv', 'Data/EEG\\\\68_pre.csv', 'Data/EEG\\\\69_dur.csv', 'Data/EEG\\\\69_post.csv', 'Data/EEG\\\\69_pre.csv', 'Data/EEG\\\\6_dur.csv', 'Data/EEG\\\\6_post.csv', 'Data/EEG\\\\6_pre.csv', 'Data/EEG\\\\70_dur.csv', 'Data/EEG\\\\70_post.csv', 'Data/EEG\\\\70_pre.csv', 'Data/EEG\\\\71_dur.csv', 'Data/EEG\\\\71_post.csv', 'Data/EEG\\\\71_pre.csv', 'Data/EEG\\\\72_dur.csv', 'Data/EEG\\\\72_post.csv', 'Data/EEG\\\\72_pre.csv', 'Data/EEG\\\\73_dur.csv', 'Data/EEG\\\\73_post.csv', 'Data/EEG\\\\73_pre.csv', 'Data/EEG\\\\74_dur.csv', 'Data/EEG\\\\74_post.csv', 'Data/EEG\\\\74_pre.csv', 'Data/EEG\\\\75_dur.csv', 'Data/EEG\\\\75_post.csv', 'Data/EEG\\\\75_pre.csv', 'Data/EEG\\\\76_dur.csv', 'Data/EEG\\\\76_post.csv', 'Data/EEG\\\\76_pre.csv', 'Data/EEG\\\\77_dur.csv', 'Data/EEG\\\\77_post.csv', 'Data/EEG\\\\77_pre.csv', 'Data/EEG\\\\78_dur.csv', 'Data/EEG\\\\78_post.csv', 'Data/EEG\\\\78_pre.csv', 'Data/EEG\\\\79_dur.csv', 'Data/EEG\\\\79_post.csv', 'Data/EEG\\\\79_pre.csv', 'Data/EEG\\\\7_dur.csv', 'Data/EEG\\\\7_post.csv', 'Data/EEG\\\\7_pre.csv', 'Data/EEG\\\\82_dur.csv', 'Data/EEG\\\\82_post.csv', 'Data/EEG\\\\82_pre.csv', 'Data/EEG\\\\84_dur.csv', 'Data/EEG\\\\84_post.csv', 'Data/EEG\\\\84_pre.csv', 'Data/EEG\\\\85_dur.csv', 'Data/EEG\\\\85_post.csv', 'Data/EEG\\\\85_pre.csv', 'Data/EEG\\\\86_dur.csv', 'Data/EEG\\\\86_post.csv', 'Data/EEG\\\\86_pre.csv', 'Data/EEG\\\\87_dur.csv', 'Data/EEG\\\\87_post.csv', 'Data/EEG\\\\87_pre.csv', 'Data/EEG\\\\88_dur.csv', 'Data/EEG\\\\88_post.csv', 'Data/EEG\\\\88_pre.csv', 'Data/EEG\\\\8_dur.csv', 'Data/EEG\\\\8_post.csv', 'Data/EEG\\\\8_pre.csv', 'Data/EEG\\\\9_dur.csv', 'Data/EEG\\\\9_post.csv', 'Data/EEG\\\\9_pre.csv']\n",
      "['Data/All\\\\10_B22133.csv', 'Data/All\\\\11_B22214.csv', 'Data/All\\\\13_B22112.csv', 'Data/All\\\\14_B22129.csv', 'Data/All\\\\15_B22115.csv', 'Data/All\\\\16_B22105.csv', 'Data/All\\\\17_B2294.csv', 'Data/All\\\\18_B22119.csv', 'Data/All\\\\19_B22094.csv', 'Data/All\\\\20_B22202.csv', 'Data/All\\\\21_B22131.csv', 'Data/All\\\\22_B22177.csv', 'Data/All\\\\23_B22084.csv', 'Data/All\\\\24_B20265.csv', 'Data/All\\\\25_B22111.csv', 'Data/All\\\\26_B22116.csv', 'Data/All\\\\27_B22208.csv', 'Data/All\\\\28_B22104.csv', 'Data/All\\\\29_B22128.csv', 'Data/All\\\\30_B22146.csv', 'Data/All\\\\31_B22113.csv', 'Data/All\\\\32_B22087.csv', 'Data/All\\\\33_B21184.csv', 'Data/All\\\\34_B21088.csv', 'Data/All\\\\35_B21177.csv', 'Data/All\\\\36_B22124.csv', 'Data/All\\\\37_B22085.csv', 'Data/All\\\\38_B22134.csv', 'Data/All\\\\39_B22108.csv', 'Data/All\\\\40_B21268.csv', 'Data/All\\\\41_B21034.csv', 'Data/All\\\\42_B21121.csv', 'Data/All\\\\43_B22145.csv', 'Data/All\\\\44_B22095.csv', 'Data/All\\\\45_B22080.csv', 'Data/All\\\\46_B22106.csv', 'Data/All\\\\47_B22103.csv', 'Data/All\\\\48_B22127.csv', 'Data/All\\\\49_B22293.csv', 'Data/All\\\\50_B22039.csv', 'Data/All\\\\51_B22093.csv', 'Data/All\\\\52_B21091.csv', 'Data/All\\\\53_B22011.csv', 'Data/All\\\\54_B22086.csv', 'Data/All\\\\55_B22099.csv', 'Data/All\\\\56_B22231.csv', 'Data/All\\\\57_B22098.csv', 'Data/All\\\\58_B21041.csv', 'Data/All\\\\59_B22144.csv', 'Data/All\\\\5_B22122.csv', 'Data/All\\\\60_B22153.csv', 'Data/All\\\\61_B22102.csv', 'Data/All\\\\62_B21232.csv', 'Data/All\\\\63_B22132.csv', 'Data/All\\\\64_B22147.csv', 'Data/All\\\\65_IM24011.csv', 'Data/All\\\\66_B22114.csv', 'Data/All\\\\67_B21122.csv', 'Data/All\\\\68_B22120.csv', 'Data/All\\\\69_B24362.csv', 'Data/All\\\\6_B21183.csv', 'Data/All\\\\70_B22092.csv', 'Data/All\\\\71_B22121.csv', 'Data/All\\\\72_B22138.csv', 'Data/All\\\\73_B20001.csv', 'Data/All\\\\74_B22125.csv', 'Data/All\\\\75_B22101.csv', 'Data/All\\\\76_B22130.csv', 'Data/All\\\\77_intern.csv', 'Data/All\\\\78_T24138.csv', 'Data/All\\\\79_B24216.csv', 'Data/All\\\\7_B22290.csv', 'Data/All\\\\82_Intern.csv', 'Data/All\\\\84_S24010.csv', 'Data/All\\\\85_D24006.csv', 'Data/All\\\\86_S24008.csv', 'Data/All\\\\87_S24071.csv', 'Data/All\\\\88_B22139.csv', 'Data/All\\\\8_B22229.csv', 'Data/All\\\\9_B22109.csv']\n"
     ]
    },
    {
     "ename": "UFuncTypeError",
     "evalue": "ufunc 'greater' did not contain a loop with signature matching types (<class 'numpy.dtypes.Float64DType'>, <class 'numpy.dtypes.StrDType'>) -> None",
     "output_type": "error",
     "traceback": [
      "\u001b[1;31m---------------------------------------------------------------------------\u001b[0m",
      "\u001b[1;31mUFuncTypeError\u001b[0m                            Traceback (most recent call last)",
      "Cell \u001b[1;32mIn[7], line 28\u001b[0m\n\u001b[0;32m     26\u001b[0m \u001b[38;5;66;03m# If a matching Unity file is found, call the function\u001b[39;00m\n\u001b[0;32m     27\u001b[0m \u001b[38;5;28;01mif\u001b[39;00m matching_unity_files:\n\u001b[1;32m---> 28\u001b[0m     \u001b[43msplit_dur_file\u001b[49m\u001b[43m(\u001b[49m\u001b[43meeg_file\u001b[49m\u001b[43m,\u001b[49m\u001b[43m \u001b[49m\u001b[43mmatching_unity_files\u001b[49m\u001b[43m[\u001b[49m\u001b[38;5;241;43m0\u001b[39;49m\u001b[43m]\u001b[49m\u001b[43m,\u001b[49m\u001b[43meeg_id\u001b[49m\u001b[43m)\u001b[49m\n",
      "Cell \u001b[1;32mIn[2], line 12\u001b[0m, in \u001b[0;36msplit_dur_file\u001b[1;34m(dur_file_path, unity_file_path, eeg_id)\u001b[0m\n\u001b[0;32m      9\u001b[0m earthquake_end_time \u001b[38;5;241m=\u001b[39m unity_df\u001b[38;5;241m.\u001b[39mloc[unity_df[\u001b[38;5;124m'\u001b[39m\u001b[38;5;124mEventType\u001b[39m\u001b[38;5;124m'\u001b[39m] \u001b[38;5;241m==\u001b[39m \u001b[38;5;124m'\u001b[39m\u001b[38;5;124mEarthquakeEnd\u001b[39m\u001b[38;5;124m'\u001b[39m, \u001b[38;5;124m'\u001b[39m\u001b[38;5;124mTime\u001b[39m\u001b[38;5;124m'\u001b[39m]\u001b[38;5;241m.\u001b[39miloc[\u001b[38;5;241m0\u001b[39m]\u001b[38;5;241m/\u001b[39m\u001b[38;5;241m1000\u001b[39m\n\u001b[0;32m     11\u001b[0m \u001b[38;5;66;03m# Split the dur file into three parts\u001b[39;00m\n\u001b[1;32m---> 12\u001b[0m dur1 \u001b[38;5;241m=\u001b[39m dur_df[\u001b[43mdur_df\u001b[49m\u001b[43m[\u001b[49m\u001b[38;5;124;43m'\u001b[39;49m\u001b[38;5;124;43mtimestamps\u001b[39;49m\u001b[38;5;124;43m'\u001b[39;49m\u001b[43m]\u001b[49m\u001b[43m \u001b[49m\u001b[38;5;241;43m<\u001b[39;49m\u001b[43m \u001b[49m\u001b[43mearthquake_start_time\u001b[49m]\n\u001b[0;32m     13\u001b[0m dur2 \u001b[38;5;241m=\u001b[39m dur_df[(dur_df[\u001b[38;5;124m'\u001b[39m\u001b[38;5;124mtimestamps\u001b[39m\u001b[38;5;124m'\u001b[39m] \u001b[38;5;241m>\u001b[39m\u001b[38;5;241m=\u001b[39m earthquake_start_time) \u001b[38;5;241m&\u001b[39m (dur_df[\u001b[38;5;124m'\u001b[39m\u001b[38;5;124mtimestamps\u001b[39m\u001b[38;5;124m'\u001b[39m] \u001b[38;5;241m<\u001b[39m\u001b[38;5;241m=\u001b[39m earthquake_end_time)]\n\u001b[0;32m     14\u001b[0m dur3 \u001b[38;5;241m=\u001b[39m dur_df[dur_df[\u001b[38;5;124m'\u001b[39m\u001b[38;5;124mtimestamps\u001b[39m\u001b[38;5;124m'\u001b[39m] \u001b[38;5;241m>\u001b[39m earthquake_end_time]\n",
      "File \u001b[1;32m~\\AppData\\Roaming\\Python\\Python312\\site-packages\\pandas\\core\\ops\\common.py:76\u001b[0m, in \u001b[0;36m_unpack_zerodim_and_defer.<locals>.new_method\u001b[1;34m(self, other)\u001b[0m\n\u001b[0;32m     72\u001b[0m             \u001b[38;5;28;01mreturn\u001b[39;00m \u001b[38;5;28mNotImplemented\u001b[39m\n\u001b[0;32m     74\u001b[0m other \u001b[38;5;241m=\u001b[39m item_from_zerodim(other)\n\u001b[1;32m---> 76\u001b[0m \u001b[38;5;28;01mreturn\u001b[39;00m \u001b[43mmethod\u001b[49m\u001b[43m(\u001b[49m\u001b[38;5;28;43mself\u001b[39;49m\u001b[43m,\u001b[49m\u001b[43m \u001b[49m\u001b[43mother\u001b[49m\u001b[43m)\u001b[49m\n",
      "File \u001b[1;32m~\\AppData\\Roaming\\Python\\Python312\\site-packages\\pandas\\core\\arraylike.py:48\u001b[0m, in \u001b[0;36mOpsMixin.__lt__\u001b[1;34m(self, other)\u001b[0m\n\u001b[0;32m     46\u001b[0m \u001b[38;5;129m@unpack_zerodim_and_defer\u001b[39m(\u001b[38;5;124m\"\u001b[39m\u001b[38;5;124m__lt__\u001b[39m\u001b[38;5;124m\"\u001b[39m)\n\u001b[0;32m     47\u001b[0m \u001b[38;5;28;01mdef\u001b[39;00m \u001b[38;5;21m__lt__\u001b[39m(\u001b[38;5;28mself\u001b[39m, other):\n\u001b[1;32m---> 48\u001b[0m     \u001b[38;5;28;01mreturn\u001b[39;00m \u001b[38;5;28;43mself\u001b[39;49m\u001b[38;5;241;43m.\u001b[39;49m\u001b[43m_cmp_method\u001b[49m\u001b[43m(\u001b[49m\u001b[43mother\u001b[49m\u001b[43m,\u001b[49m\u001b[43m \u001b[49m\u001b[43moperator\u001b[49m\u001b[38;5;241;43m.\u001b[39;49m\u001b[43mlt\u001b[49m\u001b[43m)\u001b[49m\n",
      "File \u001b[1;32m~\\AppData\\Roaming\\Python\\Python312\\site-packages\\pandas\\core\\series.py:6119\u001b[0m, in \u001b[0;36mSeries._cmp_method\u001b[1;34m(self, other, op)\u001b[0m\n\u001b[0;32m   6116\u001b[0m lvalues \u001b[38;5;241m=\u001b[39m \u001b[38;5;28mself\u001b[39m\u001b[38;5;241m.\u001b[39m_values\n\u001b[0;32m   6117\u001b[0m rvalues \u001b[38;5;241m=\u001b[39m extract_array(other, extract_numpy\u001b[38;5;241m=\u001b[39m\u001b[38;5;28;01mTrue\u001b[39;00m, extract_range\u001b[38;5;241m=\u001b[39m\u001b[38;5;28;01mTrue\u001b[39;00m)\n\u001b[1;32m-> 6119\u001b[0m res_values \u001b[38;5;241m=\u001b[39m \u001b[43mops\u001b[49m\u001b[38;5;241;43m.\u001b[39;49m\u001b[43mcomparison_op\u001b[49m\u001b[43m(\u001b[49m\u001b[43mlvalues\u001b[49m\u001b[43m,\u001b[49m\u001b[43m \u001b[49m\u001b[43mrvalues\u001b[49m\u001b[43m,\u001b[49m\u001b[43m \u001b[49m\u001b[43mop\u001b[49m\u001b[43m)\u001b[49m\n\u001b[0;32m   6121\u001b[0m \u001b[38;5;28;01mreturn\u001b[39;00m \u001b[38;5;28mself\u001b[39m\u001b[38;5;241m.\u001b[39m_construct_result(res_values, name\u001b[38;5;241m=\u001b[39mres_name)\n",
      "File \u001b[1;32m~\\AppData\\Roaming\\Python\\Python312\\site-packages\\pandas\\core\\ops\\array_ops.py:344\u001b[0m, in \u001b[0;36mcomparison_op\u001b[1;34m(left, right, op)\u001b[0m\n\u001b[0;32m    341\u001b[0m     \u001b[38;5;28;01mreturn\u001b[39;00m invalid_comparison(lvalues, rvalues, op)\n\u001b[0;32m    343\u001b[0m \u001b[38;5;28;01melif\u001b[39;00m lvalues\u001b[38;5;241m.\u001b[39mdtype \u001b[38;5;241m==\u001b[39m \u001b[38;5;28mobject\u001b[39m \u001b[38;5;129;01mor\u001b[39;00m \u001b[38;5;28misinstance\u001b[39m(rvalues, \u001b[38;5;28mstr\u001b[39m):\n\u001b[1;32m--> 344\u001b[0m     res_values \u001b[38;5;241m=\u001b[39m \u001b[43mcomp_method_OBJECT_ARRAY\u001b[49m\u001b[43m(\u001b[49m\u001b[43mop\u001b[49m\u001b[43m,\u001b[49m\u001b[43m \u001b[49m\u001b[43mlvalues\u001b[49m\u001b[43m,\u001b[49m\u001b[43m \u001b[49m\u001b[43mrvalues\u001b[49m\u001b[43m)\u001b[49m\n\u001b[0;32m    346\u001b[0m \u001b[38;5;28;01melse\u001b[39;00m:\n\u001b[0;32m    347\u001b[0m     res_values \u001b[38;5;241m=\u001b[39m _na_arithmetic_op(lvalues, rvalues, op, is_cmp\u001b[38;5;241m=\u001b[39m\u001b[38;5;28;01mTrue\u001b[39;00m)\n",
      "File \u001b[1;32m~\\AppData\\Roaming\\Python\\Python312\\site-packages\\pandas\\core\\ops\\array_ops.py:129\u001b[0m, in \u001b[0;36mcomp_method_OBJECT_ARRAY\u001b[1;34m(op, x, y)\u001b[0m\n\u001b[0;32m    127\u001b[0m     result \u001b[38;5;241m=\u001b[39m libops\u001b[38;5;241m.\u001b[39mvec_compare(x\u001b[38;5;241m.\u001b[39mravel(), y\u001b[38;5;241m.\u001b[39mravel(), op)\n\u001b[0;32m    128\u001b[0m \u001b[38;5;28;01melse\u001b[39;00m:\n\u001b[1;32m--> 129\u001b[0m     result \u001b[38;5;241m=\u001b[39m \u001b[43mlibops\u001b[49m\u001b[38;5;241;43m.\u001b[39;49m\u001b[43mscalar_compare\u001b[49m\u001b[43m(\u001b[49m\u001b[43mx\u001b[49m\u001b[38;5;241;43m.\u001b[39;49m\u001b[43mravel\u001b[49m\u001b[43m(\u001b[49m\u001b[43m)\u001b[49m\u001b[43m,\u001b[49m\u001b[43m \u001b[49m\u001b[43my\u001b[49m\u001b[43m,\u001b[49m\u001b[43m \u001b[49m\u001b[43mop\u001b[49m\u001b[43m)\u001b[49m\n\u001b[0;32m    130\u001b[0m \u001b[38;5;28;01mreturn\u001b[39;00m result\u001b[38;5;241m.\u001b[39mreshape(x\u001b[38;5;241m.\u001b[39mshape)\n",
      "File \u001b[1;32mops.pyx:107\u001b[0m, in \u001b[0;36mpandas._libs.ops.scalar_compare\u001b[1;34m()\u001b[0m\n",
      "\u001b[1;31mUFuncTypeError\u001b[0m: ufunc 'greater' did not contain a loop with signature matching types (<class 'numpy.dtypes.Float64DType'>, <class 'numpy.dtypes.StrDType'>) -> None"
     ]
    }
   ],
   "source": [
    "# Define the directories\n",
    "eeg_dir = 'Data/EEG'\n",
    "unity_dir = 'Data/All'\n",
    "\n",
    "# Get all files from the directories\n",
    "eeg_files = glob.glob(os.path.join(eeg_dir, '*.csv'))\n",
    "unity_files = glob.glob(os.path.join(unity_dir, '*.csv'))\n",
    "print(eeg_files)\n",
    "print(unity_files)\n",
    "# Process files with the same ID\n",
    "for eeg_file in eeg_files:\n",
    "    # Extract the ID from the EEG file name\n",
    "    eeg_id = os.path.basename(eeg_file).split('_')[0]\n",
    "    eeg_type = os.path.basename(eeg_file).split('_')[1]\n",
    "\n",
    "    # print(eeg_id)\n",
    "    # print(eeg_type)\n",
    "    # print()\n",
    "    # Check if the EEG file is of type 'dur'\n",
    "    if eeg_type != 'dur.csv':\n",
    "        continue\n",
    "    \n",
    "    # Find the corresponding Unity file with the same ID\n",
    "    matching_unity_files = [uf for uf in unity_files if os.path.basename(uf).split('_')[0] == eeg_id]\n",
    "    \n",
    "    # If a matching Unity file is found, call the function\n",
    "    if matching_unity_files:\n",
    "        split_dur_file(eeg_file, matching_unity_files[0],eeg_id)"
   ]
  },
  {
   "cell_type": "code",
   "execution_count": null,
   "metadata": {},
   "outputs": [],
   "source": [
    "import os\n",
    "\n",
    "# Replace with your actual directory path\n",
    "folder_path = \"Data/EEG/dur\"\n",
    "\n",
    "# Loop through all files in the folder\n",
    "for filename in os.listdir(folder_path):\n",
    "    old_path = os.path.join(folder_path, filename)\n",
    "\n",
    "    if os.path.isfile(old_path):\n",
    "        new_filename = filename\n",
    "\n",
    "        if \"_dur_earthquake\" in filename:\n",
    "            new_filename = filename.replace(\"_dur_earthquake\", \"_durEarthquake\")\n",
    "        elif \"_dur_pre\" in filename:\n",
    "            new_filename = filename.replace(\"_dur_pre\", \"_durPre\")\n",
    "        elif \"_dur_post\" in filename:\n",
    "            new_filename = filename.replace(\"_dur_post\", \"_durPost\")\n",
    "\n",
    "        # Only rename if the filename has changed\n",
    "        if new_filename != filename:\n",
    "            new_path = os.path.join(folder_path, new_filename)\n",
    "            os.rename(old_path, new_path)\n",
    "            print(f\"Renamed: {filename} → {new_filename}\")\n"
   ]
  },
  {
   "cell_type": "code",
   "execution_count": null,
   "metadata": {},
   "outputs": [],
   "source": []
  }
 ],
 "metadata": {
  "kernelspec": {
   "display_name": "mtp",
   "language": "python",
   "name": "python3"
  },
  "language_info": {
   "codemirror_mode": {
    "name": "ipython",
    "version": 3
   },
   "file_extension": ".py",
   "mimetype": "text/x-python",
   "name": "python",
   "nbconvert_exporter": "python",
   "pygments_lexer": "ipython3",
   "version": "3.12.7"
  }
 },
 "nbformat": 4,
 "nbformat_minor": 2
}
