{
 "cells": [
  {
   "cell_type": "code",
   "execution_count": 54,
   "metadata": {},
   "outputs": [],
   "source": [
    "import os\n",
    "import glob\n",
    "import pandas as pd\n",
    "import numpy as np\n",
    "from scipy.fft import fft\n",
    "from scipy.signal import butter, lfilter, filtfilt\n",
    "import matplotlib.pyplot as plt"
   ]
  },
  {
   "cell_type": "markdown",
   "metadata": {},
   "source": [
    "# Generating ratios from EEG"
   ]
  },
  {
   "cell_type": "code",
   "execution_count": 26,
   "metadata": {},
   "outputs": [],
   "source": [
    "# Define the Butterworth bandpass filter function\n",
    "def butter_bandpass(lowcut, highcut, fs, order=5):\n",
    "    nyquist = 0.5 * fs\n",
    "    low = lowcut / nyquist\n",
    "    high = highcut / nyquist\n",
    "    b, a = butter(order, [low, high], btype='band')\n",
    "    return b, a\n",
    "\n",
    "# Define the Butterworth high-pass filter function\n",
    "def butter_highpass(cutoff, fs, order=5):\n",
    "    nyquist = 0.5 * fs\n",
    "    normal_cutoff = cutoff / nyquist\n",
    "    b, a = butter(order, normal_cutoff, btype='high', analog=False)\n",
    "    return b, a\n",
    "\n",
    "# Apply the bandpass filter\n",
    "def apply_bandpass_filter(data, lowcut, highcut, fs, order=5):\n",
    "    b, a = butter_bandpass(lowcut, highcut, fs, order=order)\n",
    "    y = filtfilt(b, a, data)\n",
    "    return y\n",
    "\n",
    "# Apply the high-pass filter\n",
    "def apply_highpass_filter(data, cutoff, fs, order=5):\n",
    "    b, a = butter_highpass(cutoff, fs, order=order)\n",
    "    y = filtfilt(b, a, data)\n",
    "    return y\n",
    "\n",
    "def compute_ratios(csv_file_path):\n",
    "    id = os.path.basename(csv_file_path).split('_')[0]\n",
    "    type = os.path.basename(csv_file_path).split('_')[1]\n",
    "    type = os.path.splitext(type)[0]\n",
    "    \n",
    "    data_df = pd.read_csv(csv_file_path)\n",
    "    data_df.columns = data_df.columns.str.strip()  # Clean column names\n",
    "    channels_data = data_df[['TP9', 'AF7', 'AF8', 'TP10']]\n",
    "\n",
    "    sampling_frequency = 256  # Hz\n",
    "    fft_size = 256\n",
    "    frequency = np.fft.fftfreq(fft_size, 1 / sampling_frequency)\n",
    "    alpha_band = (frequency >= 8) & (frequency <= 12)\n",
    "    beta_band = (frequency > 12) & (frequency <= 30)\n",
    "    theta_band = (frequency >= 4) & (frequency <= 8)\n",
    "    gamma_band = (frequency > 30) & (frequency <= 50)\n",
    "\n",
    "    for column in channels_data.columns:\n",
    "        channels_data.loc[:,column] = apply_highpass_filter(channels_data[column], 1, sampling_frequency)\n",
    "\n",
    "    # To store the computed powers for each band\n",
    "    alpha_powers = []\n",
    "    beta_powers = []\n",
    "    theta_powers = []\n",
    "    gamma_powers = []\n",
    "\n",
    "    for channel in channels_data.columns:\n",
    "        channel_data = channels_data[channel]\n",
    "        filtered_data_theta = apply_bandpass_filter(channel_data, 4, 8, sampling_frequency)\n",
    "        filtered_data_alpha = apply_bandpass_filter(channel_data, 8, 12, sampling_frequency)\n",
    "        filtered_data_beta = apply_bandpass_filter(channel_data, 13, 30, sampling_frequency)\n",
    "        filtered_data_gamma = apply_bandpass_filter(channel_data, 30, 50, sampling_frequency)\n",
    "\n",
    "        spectrum_alpha = np.fft.fft(filtered_data_alpha, fft_size)\n",
    "        spectrum_beta = np.fft.fft(filtered_data_beta, fft_size)\n",
    "        spectrum_theta = np.fft.fft(filtered_data_theta, fft_size)\n",
    "        spectrum_gamma = np.fft.fft(filtered_data_gamma, fft_size)\n",
    "\n",
    "        power_alpha = np.abs(spectrum_alpha)**2\n",
    "        power_beta = np.abs(spectrum_beta)**2\n",
    "        power_theta = np.abs(spectrum_theta)**2\n",
    "        power_gamma = np.abs(spectrum_gamma)**2\n",
    "        total_power = np.sum(np.abs(np.fft.fft(channel_data, fft_size))**2)\n",
    "\n",
    "        relative_power_alpha = np.sum(power_alpha[alpha_band]) / total_power\n",
    "        relative_power_beta = np.sum(power_beta[beta_band]) / total_power\n",
    "        relative_power_theta = np.sum(power_theta[theta_band]) / total_power\n",
    "        relative_power_gamma = np.sum(power_gamma[gamma_band]) / total_power\n",
    "\n",
    "        # Append relative powers separately for each band\n",
    "        alpha_powers.append(relative_power_alpha)\n",
    "        beta_powers.append(relative_power_beta)\n",
    "        theta_powers.append(relative_power_theta)\n",
    "        gamma_powers.append(relative_power_gamma)\n",
    "        \n",
    "    # Calcualte overall power of AF7 and AF8\n",
    "    af7_data = channels_data['AF7']\n",
    "    af8_data = channels_data['AF8']\n",
    "    fft_af7 = np.fft.fft(af7_data, fft_size)\n",
    "    fft_af8 = np.fft.fft(af8_data, fft_size)\n",
    "    power_af7 = np.abs(fft_af7)**2\n",
    "    power_af8 = np.abs(fft_af8)**2\n",
    "    total_power_af7 = np.sum(power_af7)\n",
    "    total_power_af8 = np.sum(power_af8)\n",
    "\n",
    "\n",
    "    theta_beta_ratio = np.mean(theta_powers) / np.mean(beta_powers)\n",
    "    alpha_beta_ratio = np.mean(alpha_powers) / np.mean(beta_powers)\n",
    "    beta_theta_ratio = np.mean(beta_powers) / np.mean(theta_powers)\n",
    "    beta_alpha_ratio = np.mean(beta_powers) / np.mean(alpha_powers)\n",
    "    gamma_beta_ratio = np.mean(gamma_powers) / np.mean(beta_powers)\n",
    "    frontal_alpha_asymmetry = np.log(total_power_af7) - np.log(total_power_af8)  \n",
    "\n",
    "    result = {\n",
    "        \"id\": id,\n",
    "        f\"Theta/Beta Ratio {type}\": theta_beta_ratio,\n",
    "        f\"Alpha/Beta Ratio {type}\": alpha_beta_ratio,\n",
    "        f\"Beta/Theta Ratio {type}\": beta_theta_ratio,\n",
    "        f\"Beta/Alpha Ratio {type}\": beta_alpha_ratio,\n",
    "        f\"Gamma/Beta Ratio {type}\": gamma_beta_ratio,\n",
    "        f\"Frontal Alpha Asymmetry {type}\": frontal_alpha_asymmetry,\n",
    "    }\n",
    "    return result\n"
   ]
  },
  {
   "cell_type": "code",
   "execution_count": 28,
   "metadata": {},
   "outputs": [],
   "source": [
    "files = glob.glob(\"./EEG/*.csv\")\n",
    "results = []\n",
    "columns = []\n",
    "for file in files:\n",
    "    ratios = compute_ratios(file)\n",
    "    results.append(ratios)\n",
    "    columns.extend(ratios.keys())\n",
    "columns = list(set(columns))"
   ]
  },
  {
   "cell_type": "code",
   "execution_count": 32,
   "metadata": {},
   "outputs": [],
   "source": [
    "# columns\n",
    "results_df = pd.DataFrame(results, columns=columns)\n",
    "results_df = results_df.set_index('id')"
   ]
  },
  {
   "cell_type": "code",
   "execution_count": 44,
   "metadata": {},
   "outputs": [],
   "source": [
    "results_df.groupby('id').sum().replace(0, np.nan).to_csv(os.path.abspath('./results/ratios.csv'))"
   ]
  },
  {
   "cell_type": "markdown",
   "metadata": {},
   "source": [
    "# Analsysing EEGs through Plots and tables"
   ]
  },
  {
   "cell_type": "code",
   "execution_count": 52,
   "metadata": {},
   "outputs": [],
   "source": [
    "ratios_data = pd.read_csv(os.path.abspath('./results/ratios.csv'))"
   ]
  },
  {
   "cell_type": "code",
   "execution_count": 59,
   "metadata": {},
   "outputs": [
    {
     "data": {
      "text/plain": [
       "Index(['id', 'Theta/Beta Ratio dur', 'Beta/Theta Ratio dur',\n",
       "       'Frontal Alpha Asymmetry dur', 'Alpha/Beta Ratio dur',\n",
       "       'Alpha/Beta Ratio post', 'Frontal Alpha Asymmetry pre',\n",
       "       'Theta/Beta Ratio pre', 'Gamma/Beta Ratio post', 'Gamma/Beta Ratio dur',\n",
       "       'Beta/Theta Ratio pre', 'Theta/Beta Ratio post', 'Alpha/Beta Ratio pre',\n",
       "       'Frontal Alpha Asymmetry post', 'Beta/Alpha Ratio post',\n",
       "       'Gamma/Beta Ratio pre', 'Beta/Alpha Ratio pre', 'Beta/Alpha Ratio dur',\n",
       "       'Beta/Theta Ratio post'],\n",
       "      dtype='object')"
      ]
     },
     "execution_count": 59,
     "metadata": {},
     "output_type": "execute_result"
    }
   ],
   "source": [
    "ratio_copy = ratios_data.copy()\n",
    "ratio_copy.drop(columns= [\"id\"])\n",
    "ratios_grouped = ratio_copy.groupby(\"Group\").mean()\n",
    "ratios_grouped.columns"
   ]
  },
  {
   "cell_type": "code",
   "execution_count": 77,
   "metadata": {},
   "outputs": [
    {
     "data": {
      "image/png": "[encoded data removed]",
      "text/plain": [
       "<Figure size 1000x600 with 1 Axes>"
      ]
     },
     "metadata": {},
     "output_type": "display_data"
    }
   ],
   "source": [
    "# plt.bar([\"Alpha/Beta Ratio dur\", \"Alpha/Beta Ratio pre\", \"Alpha/Beta Ratio post\"], ratios_grouped[[\"Alpha/Beta Ratio dur\", \"Alpha/Beta Ratio pre\", \"Alpha/Beta Ratio post\"]])\n",
    "# Plot Alpha/Beta Ratio for dur, pre and post in a side-by-side bar graph\n",
    "x = np.arange(len(ratios_grouped.index))  # the label locations\n",
    "width = 0.25  # the width of the bars\n",
    "\n",
    "plt.figure(figsize=(10, 6))\n",
    "plt.bar(x -width, ratios_grouped[\"Alpha/Beta Ratio pre\"], width, label=\"Before Simulation\", alpha=0.7)\n",
    "plt.bar(x , ratios_grouped[\"Alpha/Beta Ratio dur\"], width, label=\"During Simulation\", alpha=0.7)\n",
    "plt.bar(x + width, ratios_grouped[\"Alpha/Beta Ratio post\"], width, label=\"After Simulation\", alpha=0.7)\n",
    "\n",
    "plt.xlabel(\"Group\")\n",
    "plt.ylabel(\"Alpha/Beta Ratio\")\n",
    "plt.title(\"Alpha/Beta Ratio: Higher ABR = relaxation\")\n",
    "plt.xticks(x, ratios_grouped.index)\n",
    "\n",
    "plt.legend()\n",
    "plt.tight_layout()\n",
    "plt.show()"
   ]
  },
  {
   "cell_type": "code",
   "execution_count": null,
   "metadata": {},
   "outputs": [],
   "source": [
    "x = np.arange(len(ratios_grouped.index))  # the label locations\n",
    "width = 0.25  # the width of the bars\n",
    "\n",
    "plt.figure(figsize=(10, 6))\n",
    "plt.bar(x -width, ratios_grouped[\"Theta/Beta Ratio pre\"], width, label=\"Before Simulation\", alpha=0.7)\n",
    "plt.bar(x , ratios_grouped[\"Theta/Beta Ratio dur\"], width, label=\"During Simulation\", alpha=0.7)\n",
    "plt.bar(x + width, ratios_grouped[\"Theta/Beta Ratio post\"], width, label=\"After Simulation\", alpha=0.7)\n",
    "\n",
    "plt.xlabel(\"Group\")\n",
    "plt.ylabel(\"Theta/Beta Ratio\")\n",
    "plt.title(\"Theta/Beta Ratio: Higher TBR = higher stress\")\n",
    "plt.xticks(x, ratios_grouped.index)\n",
    "\n",
    "plt.legend()\n",
    "plt.tight_layout()\n",
    "plt.show()"
   ]
  },
  {
   "cell_type": "code",
   "execution_count": null,
   "metadata": {},
   "outputs": [
    {
     "data": {
      "application/vnd.microsoft.datawrangler.viewer.v0+json": {
       "columns": [
        {
         "name": "Group",
         "rawType": "int64",
         "type": "integer"
        },
        {
         "name": "Theta/Beta Ratio dur",
         "rawType": "float64",
         "type": "float"
        },
        {
         "name": "Theta/Beta Ratio pre",
         "rawType": "float64",
         "type": "float"
        },
        {
         "name": "Theta/Beta Ratio post",
         "rawType": "float64",
         "type": "float"
        }
       ],
       "conversionMethod": "pd.DataFrame",
       "ref": "e8cb996b-5bcd-4872-bd08-0a64ea5733a2",
       "rows": [
        [
         "1",
         "0.15106117470588235",
         "0.3095315167368421",
         "0.4195860074210526"
        ],
        [
         "2",
         "0.24720644900000002",
         "0.176917314",
         "0.2566714315882353"
        ],
        [
         "3",
         "0.28294944325",
         "0.14594173",
         "0.17185820231249999"
        ],
        [
         "4",
         "0.4108719384615384",
         "0.41140166147058826",
         "0.3364304568125"
        ]
       ],
       "shape": {
        "columns": 3,
        "rows": 4
       }
      },
      "text/html": [
       "<div>\n",
       "<style scoped>\n",
       "    .dataframe tbody tr th:only-of-type {\n",
       "        vertical-align: middle;\n",
       "    }\n",
       "\n",
       "    .dataframe tbody tr th {\n",
       "        vertical-align: top;\n",
       "    }\n",
       "\n",
       "    .dataframe thead th {\n",
       "        text-align: right;\n",
       "    }\n",
       "</style>\n",
       "<table border=\"1\" class=\"dataframe\">\n",
       "  <thead>\n",
       "    <tr style=\"text-align: right;\">\n",
       "      <th></th>\n",
       "      <th>Theta/Beta Ratio dur</th>\n",
       "      <th>Theta/Beta Ratio pre</th>\n",
       "      <th>Theta/Beta Ratio post</th>\n",
       "    </tr>\n",
       "    <tr>\n",
       "      <th>Group</th>\n",
       "      <th></th>\n",
       "      <th></th>\n",
       "      <th></th>\n",
       "    </tr>\n",
       "  </thead>\n",
       "  <tbody>\n",
       "    <tr>\n",
       "      <th>1</th>\n",
       "      <td>0.151061</td>\n",
       "      <td>0.309532</td>\n",
       "      <td>0.419586</td>\n",
       "    </tr>\n",
       "    <tr>\n",
       "      <th>2</th>\n",
       "      <td>0.247206</td>\n",
       "      <td>0.176917</td>\n",
       "      <td>0.256671</td>\n",
       "    </tr>\n",
       "    <tr>\n",
       "      <th>3</th>\n",
       "      <td>0.282949</td>\n",
       "      <td>0.145942</td>\n",
       "      <td>0.171858</td>\n",
       "    </tr>\n",
       "    <tr>\n",
       "      <th>4</th>\n",
       "      <td>0.410872</td>\n",
       "      <td>0.411402</td>\n",
       "      <td>0.336430</td>\n",
       "    </tr>\n",
       "  </tbody>\n",
       "</table>\n",
       "</div>"
      ],
      "text/plain": [
       "       Theta/Beta Ratio dur  Theta/Beta Ratio pre  Theta/Beta Ratio post\n",
       "Group                                                                   \n",
       "1                  0.151061              0.309532               0.419586\n",
       "2                  0.247206              0.176917               0.256671\n",
       "3                  0.282949              0.145942               0.171858\n",
       "4                  0.410872              0.411402               0.336430"
      ]
     },
     "execution_count": 66,
     "metadata": {},
     "output_type": "execute_result"
    }
   ],
   "source": [
    "ratios_grouped[]"
   ]
  },
  {
   "cell_type": "code",
   "execution_count": null,
   "metadata": {},
   "outputs": [],
   "source": []
  },
  {
   "cell_type": "code",
   "execution_count": null,
   "metadata": {},
   "outputs": [],
   "source": []
  }
 ],
 "metadata": {
  "kernelspec": {
   "display_name": "mtp",
   "language": "python",
   "name": "python3"
  },
  "language_info": {
   "codemirror_mode": {
    "name": "ipython",
    "version": 3
   },
   "file_extension": ".py",
   "mimetype": "text/x-python",
   "name": "python",
   "nbconvert_exporter": "python",
   "pygments_lexer": "ipython3",
   "version": "3.12.7"
  }
 },
 "nbformat": 4,
 "nbformat_minor": 2
}
